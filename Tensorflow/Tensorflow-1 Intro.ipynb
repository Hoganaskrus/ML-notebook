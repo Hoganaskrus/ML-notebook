{
 "cells": [
  {
   "cell_type": "markdown",
   "metadata": {},
   "source": [
    "Before starting, the most confusing part about writing this (not \"most-most\" but quite confusing) was the choice between using keras and tensorflow. My first thought was that keras was tensorflows backend since it's a subpackage in tf i.e tf.keras. Since I heard about keras and used it since I thought it would be best to learn some of the backend but that was not the case.\n",
    "\n",
    "Tensorflow is the default backend for keras, since keras works as a ML API, but tensorflow and keras has grown together so when learning tensorflow one implicitly learns keras."
   ]
  },
  {
   "cell_type": "code",
   "execution_count": 1,
   "metadata": {},
   "outputs": [],
   "source": [
    "import tensorflow as tf\n",
    "import tensorflow.keras as K #don't realy like this reference but are commonly used\n",
    "import numpy as np"
   ]
  },
  {
   "cell_type": "markdown",
   "metadata": {},
   "source": [
    "Tensorflow uses as expected tensors, the differs from numpy tensors by 2 things.\n",
    "\n",
    "1. They can be accelerated in the GPU/TPU.\n",
    "2. They are immutable, i.e can't be \"changed\". only create a new one.\n",
    "\n",
    "So let's study a tensor and define a 2x2 matrix, both from tensorflow but also as numpy/python"
   ]
  },
  {
   "cell_type": "code",
   "execution_count": 6,
   "metadata": {},
   "outputs": [
    {
     "name": "stdout",
     "output_type": "stream",
     "text": [
      "<class 'list'>\n",
      "<class 'numpy.ndarray'>\n",
      "<class 'tensorflow.python.framework.ops.EagerTensor'>\n"
     ]
    }
   ],
   "source": [
    "m1 = [[1.0, 2.0], \n",
    "      [3.0, 4.0]]\n",
    "\n",
    "m2 = np.array([[1.0, 2.0], \n",
    "               [3.0, 4.0]], dtype=np.float32)\n",
    "\n",
    "m3 = tf.constant([[1.0, 2.0], \n",
    "                  [3.0, 4.0]])\n",
    "\n",
    "print(type(m1))\n",
    "print(type(m2))\n",
    "print(type(m3))"
   ]
  },
  {
   "cell_type": "code",
   "execution_count": 7,
   "metadata": {
    "scrolled": true
   },
   "outputs": [
    {
     "name": "stdout",
     "output_type": "stream",
     "text": [
      "tf.Tensor(\n",
      "[[1. 2.]\n",
      " [3. 4.]], shape=(2, 2), dtype=float32)\n"
     ]
    }
   ],
   "source": [
    "print(m3)"
   ]
  },
  {
   "cell_type": "markdown",
   "metadata": {},
   "source": [
    "A tf tensor has a shape and datatype and can easily be casted to a numpy array. The axes of the shape are usually ordered from global to local. (This way features vectors are contiguous in the memory) "
   ]
  },
  {
   "cell_type": "markdown",
   "metadata": {},
   "source": [
    "![title](Pictures/test.png)"
   ]
  },
  {
   "cell_type": "code",
   "execution_count": 10,
   "metadata": {
    "scrolled": true
   },
   "outputs": [
    {
     "name": "stdout",
     "output_type": "stream",
     "text": [
      "<class 'numpy.ndarray'>\n",
      "tf.Tensor(\n",
      "[[1. 2.]\n",
      " [3. 4.]], shape=(2, 2), dtype=float32)\n"
     ]
    }
   ],
   "source": [
    "print(type(m3.numpy()))\n",
    "print(m3)"
   ]
  },
  {
   "cell_type": "markdown",
   "metadata": {},
   "source": [
    "We can also go the other way by"
   ]
  },
  {
   "cell_type": "code",
   "execution_count": 11,
   "metadata": {
    "scrolled": true
   },
   "outputs": [
    {
     "name": "stdout",
     "output_type": "stream",
     "text": [
      "tf.Tensor(\n",
      "[[1. 2.]\n",
      " [3. 4.]], shape=(2, 2), dtype=float32)\n"
     ]
    }
   ],
   "source": [
    "print(tf.constant(m2))"
   ]
  },
  {
   "cell_type": "code",
   "execution_count": 12,
   "metadata": {
    "scrolled": true
   },
   "outputs": [
    {
     "name": "stdout",
     "output_type": "stream",
     "text": [
      "3\n"
     ]
    }
   ],
   "source": [
    "x = 1\n",
    "y = 2\n",
    "print(x+y)"
   ]
  },
  {
   "cell_type": "markdown",
   "metadata": {},
   "source": [
    "As expected let's see how tensorflow does this"
   ]
  },
  {
   "cell_type": "code",
   "execution_count": 13,
   "metadata": {
    "scrolled": true
   },
   "outputs": [
    {
     "name": "stdout",
     "output_type": "stream",
     "text": [
      "tf.Tensor(3, shape=(), dtype=int32)\n"
     ]
    }
   ],
   "source": [
    "tfx = tf.constant(1)\n",
    "tfy = tf.constant(2)\n",
    "print(tfx+tfy)"
   ]
  },
  {
   "cell_type": "markdown",
   "metadata": {},
   "source": [
    "Just as with numpy it uses operator overloading, i.e element-wise operation or (@-matrix multiplication) "
   ]
  },
  {
   "cell_type": "markdown",
   "metadata": {},
   "source": [
    "Tensorflow also are able to represent ragged tensor and sparse tensors."
   ]
  },
  {
   "cell_type": "code",
   "execution_count": 14,
   "metadata": {},
   "outputs": [
    {
     "name": "stdout",
     "output_type": "stream",
     "text": [
      "<tf.RaggedTensor [[0, 1, 2, 3], [4, 5], [6, 7, 8], [9]]>\n"
     ]
    }
   ],
   "source": [
    "ragged_list = [\n",
    "    [0, 1, 2, 3],\n",
    "    [4, 5],\n",
    "    [6, 7, 8],\n",
    "    [9]]\n",
    "\n",
    "ragged_tensor = tf.ragged.constant(ragged_list)\n",
    "print(ragged_tensor)\n",
    "print(ragged_tensor.appendshape)"
   ]
  },
  {
   "cell_type": "code",
   "execution_count": 15,
   "metadata": {},
   "outputs": [
    {
     "name": "stdout",
     "output_type": "stream",
     "text": [
      "SparseTensor(indices=tf.Tensor(\n",
      "[[0 0]\n",
      " [1 2]], shape=(2, 2), dtype=int64), values=tf.Tensor([1 2], shape=(2,), dtype=int32), dense_shape=tf.Tensor([3 4], shape=(2,), dtype=int64))\n"
     ]
    }
   ],
   "source": [
    "sparse_tensor = tf.sparse.SparseTensor(indices=[[0, 0], [1, 2]],\n",
    "                                       values=[1, 2],\n",
    "                                       dense_shape=[3, 4])\n",
    "print(sparse_tensor)"
   ]
  },
  {
   "cell_type": "markdown",
   "metadata": {},
   "source": [
    "We have studied some constant tensors, that cannot change its value, so what happends if we want it to dynamically change something, or let it depend on something else (i.e a variable). The answer is tf.Variable"
   ]
  },
  {
   "cell_type": "code",
   "execution_count": 30,
   "metadata": {},
   "outputs": [
    {
     "name": "stdout",
     "output_type": "stream",
     "text": [
      "<tf.Variable 'Variable:0' shape=(2, 2) dtype=int32, numpy=\n",
      "array([[1, 2],\n",
      "       [3, 4]])>\n",
      "tf.Tensor([1 1], shape=(2,), dtype=int64)\n"
     ]
    }
   ],
   "source": [
    "tf_variable = tf.Variable(np.array([[1,2],[3,4]]))\n",
    "print(tf_variable)\n",
    "\n",
    "print(tf.argmax(tf_variable))"
   ]
  },
  {
   "cell_type": "code",
   "execution_count": 31,
   "metadata": {
    "scrolled": true
   },
   "outputs": [
    {
     "data": {
      "text/plain": [
       "<tf.Variable 'UnreadVariable' shape=(2, 2) dtype=int32, numpy=\n",
       "array([[4, 3],\n",
       "       [2, 1]])>"
      ]
     },
     "execution_count": 31,
     "metadata": {},
     "output_type": "execute_result"
    }
   ],
   "source": [
    "tf_variable.assign([[4,3],[2,1]])"
   ]
  },
  {
   "cell_type": "markdown",
   "metadata": {},
   "source": [
    "tf.Variable instance have the same lifecycle as other Python objects. When there are no references to a variable it is automatically deallocated, Variables can also be named which can help you track and debug them."
   ]
  },
  {
   "cell_type": "code",
   "execution_count": 33,
   "metadata": {},
   "outputs": [
    {
     "name": "stdout",
     "output_type": "stream",
     "text": [
      "<tf.Variable '1-D:0' shape=(2,) dtype=int32, numpy=array([1, 2])>\n"
     ]
    }
   ],
   "source": [
    "a = tf.Variable(np.array([1,2]), name=\"1-D\")\n",
    "print(a)"
   ]
  },
  {
   "cell_type": "markdown",
   "metadata": {},
   "source": [
    "Tensorflow automatically choses where the tensors will be places. We can explicitly define them like"
   ]
  },
  {
   "cell_type": "code",
   "execution_count": 36,
   "metadata": {
    "scrolled": true
   },
   "outputs": [
    {
     "name": "stdout",
     "output_type": "stream",
     "text": [
      "tf.Tensor(\n",
      "[[22. 28.]\n",
      " [49. 64.]], shape=(2, 2), dtype=float32)\n"
     ]
    }
   ],
   "source": [
    "with tf.device('CPU:0'):\n",
    "\n",
    "  # Create some tensors\n",
    "  a = tf.Variable([[1.0, 2.0, 3.0], [4.0, 5.0, 6.0]])\n",
    "  b = tf.constant([[1.0, 2.0], [3.0, 4.0], [5.0, 6.0]])\n",
    "  c = tf.matmul(a, b)\n",
    "\n",
    "print(c)"
   ]
  },
  {
   "cell_type": "markdown",
   "metadata": {},
   "source": [
    "They are well behave and can be used over processor, but will cause an delay since it has to copy."
   ]
  },
  {
   "cell_type": "code",
   "execution_count": 37,
   "metadata": {
    "scrolled": true
   },
   "outputs": [
    {
     "name": "stdout",
     "output_type": "stream",
     "text": [
      "tf.Tensor(\n",
      "[[ 1.  4.  9.]\n",
      " [ 4. 10. 18.]], shape=(2, 3), dtype=float32)\n"
     ]
    }
   ],
   "source": [
    "with tf.device('CPU:0'):\n",
    "  a = tf.Variable([[1.0, 2.0, 3.0], [4.0, 5.0, 6.0]])\n",
    "  b = tf.Variable([[1.0, 2.0, 3.0]])\n",
    "\n",
    "with tf.device('GPU:0'):\n",
    "  # Element-wise multiply\n",
    "  k = a * b\n",
    "\n",
    "print(k)"
   ]
  },
  {
   "cell_type": "markdown",
   "metadata": {},
   "source": [
    "Tensorflow 2.0 presented eager execution, that has been up to now used freely. Before one had to define a Session and functions to be able to calculate the $a*b$ as above. More importantly it \"replaces\" the graph/session mode, that still exist, that was used to export it to different language and machine. Tensorflow 1.x graph has good distibuted training, performance optimzation, to bride the gap tensorflow implemented tf.function, which we will look at later.\n",
    "\n",
    "With that said, eager execution suits us good for now. With eager execution, eager training comes. We can use tf.GradientTape to trace operation for upcoming gradients, this uses the famous automatic differentiation, which is besicaly chain rule on steroids.\n",
    "\n",
    "This gradient tape \"records\" all the forward pass operation and plays the record backwards then discard it after the call."
   ]
  },
  {
   "cell_type": "code",
   "execution_count": 43,
   "metadata": {},
   "outputs": [
    {
     "name": "stdout",
     "output_type": "stream",
     "text": [
      "tf.Tensor([[2.]], shape=(1, 1), dtype=float32)\n"
     ]
    }
   ],
   "source": [
    "w = tf.Variable([[1.0]])\n",
    "with tf.GradientTape() as tape:\n",
    "  forward = w ** 2\n",
    "\n",
    "grad = tape.gradient(forward, w)\n",
    "print(grad)"
   ]
  },
  {
   "cell_type": "markdown",
   "metadata": {},
   "source": [
    "It wouldn't (it would) be a gradient if it only could differentiate w.r.p one variable."
   ]
  },
  {
   "cell_type": "code",
   "execution_count": 44,
   "metadata": {
    "scrolled": true
   },
   "outputs": [
    {
     "name": "stdout",
     "output_type": "stream",
     "text": [
      "tf.Tensor(\n",
      "[[ 1.1533583 -0.6595056]\n",
      " [ 2.3067167 -1.3190112]\n",
      " [ 3.460075  -1.9785168]], shape=(3, 2), dtype=float32)\n"
     ]
    }
   ],
   "source": [
    "w = tf.Variable(tf.random.normal((3, 2)), name='w')\n",
    "b = tf.Variable(tf.zeros(2, dtype=tf.float32), name='b')\n",
    "x = [[1., 2., 3.]]\n",
    "\n",
    "with tf.GradientTape(persistent=True) as tape:\n",
    "  y = x @ w + b\n",
    "  loss = tf.reduce_mean(y**2)\n",
    "\n",
    "[dl_dw, dl_db] = tape.gradient(loss, [w,b])\n",
    "print(dl_dw)  "
   ]
  },
  {
   "cell_type": "markdown",
   "metadata": {},
   "source": [
    "Not everything will be auto differentiated, we need to have a variable to be able to derivate it. "
   ]
  },
  {
   "cell_type": "code",
   "execution_count": 97,
   "metadata": {},
   "outputs": [
    {
     "name": "stdout",
     "output_type": "stream",
     "text": [
      "tf.Tensor(6.0, shape=(), dtype=float32)\n",
      "None\n",
      "None\n",
      "None\n"
     ]
    },
    {
     "data": {
      "text/plain": [
       "['x0:0']"
      ]
     },
     "execution_count": 97,
     "metadata": {},
     "output_type": "execute_result"
    }
   ],
   "source": [
    "\n",
    "x0 = tf.Variable(3.0, name='x0') # Only one who will be watched from the point of the tape.\n",
    "\n",
    "x1 = tf.Variable(3.0, name='x1', trainable=False)\n",
    "\n",
    "x2 = tf.Variable(2.0, name='x2') + 1.0\n",
    "\n",
    "x3 = tf.constant(3.0, name='x3')\n",
    "\n",
    "with tf.GradientTape() as tape:\n",
    "  y = (x0**2) + (x1**2) + (x2**2)\n",
    "\n",
    "grad = tape.gradient(y, [x0, x1, x2, x3])\n",
    "\n",
    "for g in grad:\n",
    "  print(g)\n",
    "\n",
    "[var.name for var in tape.watched_variables()]"
   ]
  },
  {
   "cell_type": "code",
   "execution_count": 99,
   "metadata": {},
   "outputs": [
    {
     "name": "stdout",
     "output_type": "stream",
     "text": [
      "6.0\n"
     ]
    }
   ],
   "source": [
    "x = tf.constant(3.0)\n",
    "with tf.GradientTape() as tape:\n",
    "  tape.watch(x)\n",
    "  y = x**2\n",
    "\n",
    "# dy = 2x * dx\n",
    "dy_dx = tape.gradient(y, x)\n",
    "print(dy_dx.numpy())"
   ]
  },
  {
   "cell_type": "markdown",
   "metadata": {},
   "source": [
    "Sometime one want to treat something as differentiable, we can use tape.watch() function to request the gradient of the intermidiate value. We can also control the flow, with usual python operation and also force the tape to compute gradients over the same computation i.e not throw it away when used (as it usually does)."
   ]
  },
  {
   "cell_type": "code",
   "execution_count": 102,
   "metadata": {},
   "outputs": [
    {
     "name": "stdout",
     "output_type": "stream",
     "text": [
      "tf.Tensor(1.0, shape=(), dtype=float32)\n",
      "None\n"
     ]
    }
   ],
   "source": [
    "x = tf.constant(1.0)\n",
    "\n",
    "v0 = tf.Variable(2.0)\n",
    "v1 = tf.Variable(2.0)\n",
    "\n",
    "with tf.GradientTape(persistent=True) as tape:\n",
    "  tape.watch(x)\n",
    "  if x > 0.0:\n",
    "    result = v0\n",
    "  else:\n",
    "    result = v1**2 \n",
    "\n",
    "dv0, dv1 = tape.gradient(result, [v0, v1])\n",
    "\n",
    "print(dv0)\n",
    "print(dv1)\n",
    "\n",
    "del tape  # Drop the reference to the tape"
   ]
  },
  {
   "cell_type": "markdown",
   "metadata": {},
   "source": [
    "Gradient can sometime be None, and be hard to debug. Often when a target is not connected i.e df_dx = None when there is no x in f. A tricky problem is when we are not using assing on the variable or when we did calculation outside of tensorflow."
   ]
  },
  {
   "cell_type": "code",
   "execution_count": 104,
   "metadata": {},
   "outputs": [
    {
     "name": "stdout",
     "output_type": "stream",
     "text": [
      "tf.Tensor(1.0, shape=(), dtype=float32)\n",
      "None\n"
     ]
    }
   ],
   "source": [
    "#1. Replaced a variable with a tensor.\n",
    "\n",
    "x = tf.Variable(2.0)\n",
    "\n",
    "for epoch in range(2):\n",
    "  with tf.GradientTape() as tape:\n",
    "    y = x+1\n",
    "\n",
    "  print(tape.gradient(y, x))\n",
    "  x = x + 1   # This should be `x.assign_add(1)`"
   ]
  },
  {
   "cell_type": "code",
   "execution_count": 105,
   "metadata": {},
   "outputs": [
    {
     "name": "stdout",
     "output_type": "stream",
     "text": [
      "None\n"
     ]
    }
   ],
   "source": [
    "#2. Did calculations outside of TensorFlow\n",
    "x = tf.Variable([[1.0, 2.0],\n",
    "                 [3.0, 4.0]], dtype=tf.float32)\n",
    "\n",
    "with tf.GradientTape() as tape:\n",
    "  x2 = x**2\n",
    "\n",
    "  # This step is calculated with NumPy\n",
    "  y = np.mean(x2, axis=0)\n",
    "\n",
    "  # Like most ops, reduce_mean will cast the NumPy array to a constant tensor\n",
    "  # using `tf.convert_to_tensor`.\n",
    "  y = tf.reduce_mean(y, axis=0)\n",
    "\n",
    "print(tape.gradient(y, x))"
   ]
  },
  {
   "cell_type": "code",
   "execution_count": 106,
   "metadata": {},
   "outputs": [
    {
     "name": "stdout",
     "output_type": "stream",
     "text": [
      "WARNING:tensorflow:The dtype of the target tensor must be floating (e.g. tf.float32) when calling GradientTape.gradient, got tf.int32\n",
      "WARNING:tensorflow:The dtype of the source tensor must be floating (e.g. tf.float32) when calling GradientTape.gradient, got tf.int32\n",
      "None\n"
     ]
    }
   ],
   "source": [
    "#3. Did gradient not on a float\n",
    "\n",
    "# The x0 variable has an `int` dtype.\n",
    "x = tf.Variable([[2, 2],\n",
    "                 [2, 2]])\n",
    "\n",
    "with tf.GradientTape() as tape:\n",
    "  # The path to x1 is blocked by the `int` dtype here.\n",
    "  y = tf.cast(x, tf.float32)\n",
    "  y = tf.reduce_sum(x)\n",
    "\n",
    "print(tape.gradient(y, x))"
   ]
  },
  {
   "cell_type": "code",
   "execution_count": 107,
   "metadata": {},
   "outputs": [
    {
     "name": "stdout",
     "output_type": "stream",
     "text": [
      "None\n"
     ]
    }
   ],
   "source": [
    "#4. Took gradients through a stateful object, i.e variable has an internal state (the value), the gradient stop there i.e does not go back to x0\n",
    "\n",
    "x0 = tf.Variable(3.0)\n",
    "x1 = tf.Variable(0.0)\n",
    "\n",
    "with tf.GradientTape() as tape:\n",
    "  # Update x1 = x1 + x0.\n",
    "  x1.assign_add(x0)\n",
    "  # The tape starts recording from x1.\n",
    "  y = x1**2   # y = (x1 + x0)**2\n",
    "\n",
    "# This doesn't work.\n",
    "print(tape.gradient(y, x0))   #dy/dx0 = 2*(x1 + x2)"
   ]
  },
  {
   "cell_type": "markdown",
   "metadata": {},
   "source": [
    "We now now how to make variable and how to differentiate them. It's not that far from being able to do a ML model. We will go through the most used data set (do not quote me on that), we will use layers already defined but is besically some smart operation and layering on what we already seen (i.e variable and operations). We will also use a know optimizer and a loss function.\n",
    "\n",
    "Let's download the MNIST handwritten digits. "
   ]
  },
  {
   "cell_type": "code",
   "execution_count": 2,
   "metadata": {},
   "outputs": [],
   "source": [
    "(mnist_images, mnist_labels), _ = K.datasets.mnist.load_data()\n",
    "\n",
    "#Ignore this for now\n",
    "dataset = tf.data.Dataset.from_tensor_slices(\n",
    "  (tf.cast(mnist_images[...,tf.newaxis]/255, tf.float32),\n",
    "   tf.cast(mnist_labels,tf.int64)))\n",
    "\n",
    "\n",
    "dataset = dataset.shuffle(1000).batch(32)\n",
    "\n",
    "#Optimizer, and loss function (from keras)\n",
    "optimizer = K.optimizers.Adam()\n",
    "loss_object = K.losses.SparseCategoricalCrossentropy(from_logits=True)\n",
    "\n",
    "loss_history = []"
   ]
  },
  {
   "cell_type": "markdown",
   "metadata": {},
   "source": [
    "Let's use a standard simple CNN"
   ]
  },
  {
   "cell_type": "code",
   "execution_count": 3,
   "metadata": {},
   "outputs": [],
   "source": [
    "#Standard CNN (from keras) a bunch of layers stacked\n",
    "mnist_model = K.Sequential([\n",
    "  tf.keras.layers.Conv2D(16,[3,3], activation='relu',\n",
    "                         input_shape=(None, None, 1)),\n",
    "  tf.keras.layers.Conv2D(16,[3,3], activation='relu'),\n",
    "  tf.keras.layers.GlobalAveragePooling2D(),\n",
    "  tf.keras.layers.Dense(10)\n",
    "])"
   ]
  },
  {
   "cell_type": "markdown",
   "metadata": {},
   "source": [
    "Let's have the forward pass and record it in our train_step function."
   ]
  },
  {
   "cell_type": "code",
   "execution_count": 4,
   "metadata": {},
   "outputs": [],
   "source": [
    "def train_step(images, labels):\n",
    "  with tf.GradientTape() as tape:\n",
    "    logits = mnist_model(images, training=True)\n",
    "    \n",
    "    # Add asserts to check the shape of the output.\n",
    "    tf.debugging.assert_equal(logits.shape, (32, 10))\n",
    "    \n",
    "    loss_value = loss_object(labels, logits)\n",
    "\n",
    "  loss_history.append(loss_value.numpy().mean())\n",
    "  grads = tape.gradient(loss_value, mnist_model.trainable_variables)\n",
    "  optimizer.apply_gradients(zip(grads, mnist_model.trainable_variables))"
   ]
  },
  {
   "cell_type": "code",
   "execution_count": 5,
   "metadata": {},
   "outputs": [
    {
     "name": "stdout",
     "output_type": "stream",
     "text": [
      "tf.Tensor(2.3009412, shape=(), dtype=float32)\n",
      "tf.Tensor(2.304256, shape=(), dtype=float32)\n",
      "tf.Tensor(2.3018851, shape=(), dtype=float32)\n",
      "tf.Tensor(2.3039572, shape=(), dtype=float32)\n",
      "tf.Tensor(2.297106, shape=(), dtype=float32)\n",
      "tf.Tensor(2.2997394, shape=(), dtype=float32)\n",
      "tf.Tensor(2.3016849, shape=(), dtype=float32)\n",
      "tf.Tensor(2.2918544, shape=(), dtype=float32)\n",
      "tf.Tensor(2.3066485, shape=(), dtype=float32)\n",
      "tf.Tensor(2.2943168, shape=(), dtype=float32)\n",
      "tf.Tensor(2.304329, shape=(), dtype=float32)\n",
      "tf.Tensor(2.3100405, shape=(), dtype=float32)\n",
      "tf.Tensor(2.3035934, shape=(), dtype=float32)\n",
      "tf.Tensor(2.2997718, shape=(), dtype=float32)\n",
      "tf.Tensor(2.2972698, shape=(), dtype=float32)\n",
      "tf.Tensor(2.2946794, shape=(), dtype=float32)\n",
      "tf.Tensor(2.2999954, shape=(), dtype=float32)\n",
      "tf.Tensor(2.2968154, shape=(), dtype=float32)\n",
      "tf.Tensor(2.3022866, shape=(), dtype=float32)\n",
      "tf.Tensor(2.2996316, shape=(), dtype=float32)\n",
      "tf.Tensor(2.3058028, shape=(), dtype=float32)\n",
      "tf.Tensor(2.30086, shape=(), dtype=float32)\n",
      "tf.Tensor(2.2994556, shape=(), dtype=float32)\n",
      "tf.Tensor(2.296267, shape=(), dtype=float32)\n",
      "tf.Tensor(2.2945757, shape=(), dtype=float32)\n",
      "tf.Tensor(2.2982683, shape=(), dtype=float32)\n",
      "tf.Tensor(2.2912903, shape=(), dtype=float32)\n",
      "tf.Tensor(2.294252, shape=(), dtype=float32)\n",
      "tf.Tensor(2.30252, shape=(), dtype=float32)\n",
      "tf.Tensor(2.293088, shape=(), dtype=float32)\n",
      "tf.Tensor(2.3059514, shape=(), dtype=float32)\n",
      "tf.Tensor(2.2945566, shape=(), dtype=float32)\n",
      "tf.Tensor(2.3019044, shape=(), dtype=float32)\n",
      "tf.Tensor(2.2925017, shape=(), dtype=float32)\n",
      "tf.Tensor(2.294114, shape=(), dtype=float32)\n",
      "tf.Tensor(2.3029811, shape=(), dtype=float32)\n",
      "tf.Tensor(2.3047943, shape=(), dtype=float32)\n",
      "tf.Tensor(2.2884011, shape=(), dtype=float32)\n",
      "tf.Tensor(2.2844467, shape=(), dtype=float32)\n",
      "tf.Tensor(2.2816374, shape=(), dtype=float32)\n",
      "tf.Tensor(2.29821, shape=(), dtype=float32)\n",
      "tf.Tensor(2.3069386, shape=(), dtype=float32)\n",
      "tf.Tensor(2.29742, shape=(), dtype=float32)\n",
      "tf.Tensor(2.284059, shape=(), dtype=float32)\n",
      "tf.Tensor(2.2856805, shape=(), dtype=float32)\n",
      "tf.Tensor(2.2977638, shape=(), dtype=float32)\n",
      "tf.Tensor(2.2908068, shape=(), dtype=float32)\n",
      "tf.Tensor(2.2807713, shape=(), dtype=float32)\n",
      "tf.Tensor(2.2964268, shape=(), dtype=float32)\n",
      "tf.Tensor(2.2901778, shape=(), dtype=float32)\n",
      "tf.Tensor(2.3016362, shape=(), dtype=float32)\n",
      "tf.Tensor(2.307064, shape=(), dtype=float32)\n",
      "tf.Tensor(2.2927823, shape=(), dtype=float32)\n",
      "tf.Tensor(2.2740457, shape=(), dtype=float32)\n",
      "tf.Tensor(2.3130376, shape=(), dtype=float32)\n",
      "tf.Tensor(2.284869, shape=(), dtype=float32)\n",
      "tf.Tensor(2.2811427, shape=(), dtype=float32)\n",
      "tf.Tensor(2.2730517, shape=(), dtype=float32)\n",
      "tf.Tensor(2.3039107, shape=(), dtype=float32)\n",
      "tf.Tensor(2.2703915, shape=(), dtype=float32)\n",
      "tf.Tensor(2.2831683, shape=(), dtype=float32)\n",
      "tf.Tensor(2.2646236, shape=(), dtype=float32)\n",
      "tf.Tensor(2.2850647, shape=(), dtype=float32)\n",
      "tf.Tensor(2.2841198, shape=(), dtype=float32)\n",
      "tf.Tensor(2.2940245, shape=(), dtype=float32)\n",
      "tf.Tensor(2.294559, shape=(), dtype=float32)\n",
      "tf.Tensor(2.2766778, shape=(), dtype=float32)\n",
      "tf.Tensor(2.2896183, shape=(), dtype=float32)\n",
      "tf.Tensor(2.2580664, shape=(), dtype=float32)\n",
      "tf.Tensor(2.2932363, shape=(), dtype=float32)\n",
      "tf.Tensor(2.2985055, shape=(), dtype=float32)\n",
      "tf.Tensor(2.269353, shape=(), dtype=float32)\n",
      "tf.Tensor(2.2401142, shape=(), dtype=float32)\n",
      "tf.Tensor(2.272996, shape=(), dtype=float32)\n",
      "tf.Tensor(2.2671375, shape=(), dtype=float32)\n",
      "tf.Tensor(2.2940454, shape=(), dtype=float32)\n",
      "tf.Tensor(2.3049755, shape=(), dtype=float32)\n",
      "tf.Tensor(2.2842212, shape=(), dtype=float32)\n",
      "tf.Tensor(2.28433, shape=(), dtype=float32)\n",
      "tf.Tensor(2.2790344, shape=(), dtype=float32)\n",
      "tf.Tensor(2.2742243, shape=(), dtype=float32)\n",
      "tf.Tensor(2.3038774, shape=(), dtype=float32)\n",
      "tf.Tensor(2.2990465, shape=(), dtype=float32)\n",
      "tf.Tensor(2.2839966, shape=(), dtype=float32)\n",
      "tf.Tensor(2.3382163, shape=(), dtype=float32)\n",
      "tf.Tensor(2.2937474, shape=(), dtype=float32)\n",
      "tf.Tensor(2.2453136, shape=(), dtype=float32)\n",
      "tf.Tensor(2.2550054, shape=(), dtype=float32)\n",
      "tf.Tensor(2.2541623, shape=(), dtype=float32)\n",
      "tf.Tensor(2.2922263, shape=(), dtype=float32)\n",
      "tf.Tensor(2.312282, shape=(), dtype=float32)\n",
      "tf.Tensor(2.2784038, shape=(), dtype=float32)\n",
      "tf.Tensor(2.2838035, shape=(), dtype=float32)\n",
      "tf.Tensor(2.290855, shape=(), dtype=float32)\n",
      "tf.Tensor(2.2599525, shape=(), dtype=float32)\n",
      "tf.Tensor(2.2879152, shape=(), dtype=float32)\n",
      "tf.Tensor(2.3061874, shape=(), dtype=float32)\n",
      "tf.Tensor(2.2664304, shape=(), dtype=float32)\n",
      "tf.Tensor(2.2649693, shape=(), dtype=float32)\n",
      "tf.Tensor(2.3023024, shape=(), dtype=float32)\n",
      "tf.Tensor(2.286913, shape=(), dtype=float32)\n",
      "tf.Tensor(2.2817168, shape=(), dtype=float32)\n",
      "tf.Tensor(2.255081, shape=(), dtype=float32)\n",
      "tf.Tensor(2.285506, shape=(), dtype=float32)\n",
      "tf.Tensor(2.2714024, shape=(), dtype=float32)\n",
      "tf.Tensor(2.3152242, shape=(), dtype=float32)\n",
      "tf.Tensor(2.2807312, shape=(), dtype=float32)\n",
      "tf.Tensor(2.2792745, shape=(), dtype=float32)\n",
      "tf.Tensor(2.272219, shape=(), dtype=float32)\n",
      "tf.Tensor(2.269609, shape=(), dtype=float32)\n",
      "tf.Tensor(2.2606707, shape=(), dtype=float32)\n",
      "tf.Tensor(2.2628117, shape=(), dtype=float32)\n",
      "tf.Tensor(2.2709255, shape=(), dtype=float32)\n",
      "tf.Tensor(2.2787142, shape=(), dtype=float32)\n",
      "tf.Tensor(2.2658653, shape=(), dtype=float32)\n",
      "tf.Tensor(2.2599962, shape=(), dtype=float32)\n",
      "tf.Tensor(2.29971, shape=(), dtype=float32)\n",
      "tf.Tensor(2.2623348, shape=(), dtype=float32)\n",
      "tf.Tensor(2.2580504, shape=(), dtype=float32)\n",
      "tf.Tensor(2.266306, shape=(), dtype=float32)\n",
      "tf.Tensor(2.2797718, shape=(), dtype=float32)\n",
      "tf.Tensor(2.2526016, shape=(), dtype=float32)\n",
      "tf.Tensor(2.2306604, shape=(), dtype=float32)\n",
      "tf.Tensor(2.2825804, shape=(), dtype=float32)\n",
      "tf.Tensor(2.2706742, shape=(), dtype=float32)\n",
      "tf.Tensor(2.280931, shape=(), dtype=float32)\n",
      "tf.Tensor(2.2671409, shape=(), dtype=float32)\n",
      "tf.Tensor(2.2837038, shape=(), dtype=float32)\n",
      "tf.Tensor(2.280704, shape=(), dtype=float32)\n",
      "tf.Tensor(2.288867, shape=(), dtype=float32)\n",
      "tf.Tensor(2.2435308, shape=(), dtype=float32)\n",
      "tf.Tensor(2.2303782, shape=(), dtype=float32)\n",
      "tf.Tensor(2.2816753, shape=(), dtype=float32)\n",
      "tf.Tensor(2.267356, shape=(), dtype=float32)\n",
      "tf.Tensor(2.230487, shape=(), dtype=float32)\n",
      "tf.Tensor(2.247982, shape=(), dtype=float32)\n",
      "tf.Tensor(2.2738435, shape=(), dtype=float32)\n",
      "tf.Tensor(2.2497957, shape=(), dtype=float32)\n",
      "tf.Tensor(2.243628, shape=(), dtype=float32)\n",
      "tf.Tensor(2.1879418, shape=(), dtype=float32)\n",
      "tf.Tensor(2.26355, shape=(), dtype=float32)\n",
      "tf.Tensor(2.2205827, shape=(), dtype=float32)\n",
      "tf.Tensor(2.21238, shape=(), dtype=float32)\n",
      "tf.Tensor(2.2698762, shape=(), dtype=float32)\n",
      "tf.Tensor(2.249701, shape=(), dtype=float32)\n",
      "tf.Tensor(2.1711488, shape=(), dtype=float32)\n",
      "tf.Tensor(2.2714741, shape=(), dtype=float32)\n",
      "tf.Tensor(2.2499738, shape=(), dtype=float32)\n",
      "tf.Tensor(2.1856818, shape=(), dtype=float32)\n",
      "tf.Tensor(2.2353296, shape=(), dtype=float32)\n",
      "tf.Tensor(2.28812, shape=(), dtype=float32)\n",
      "tf.Tensor(2.2323647, shape=(), dtype=float32)\n",
      "tf.Tensor(2.29181, shape=(), dtype=float32)\n",
      "tf.Tensor(2.2878652, shape=(), dtype=float32)\n",
      "tf.Tensor(2.2443845, shape=(), dtype=float32)\n",
      "tf.Tensor(2.2680502, shape=(), dtype=float32)\n",
      "tf.Tensor(2.2610116, shape=(), dtype=float32)\n",
      "tf.Tensor(2.2825513, shape=(), dtype=float32)\n",
      "tf.Tensor(2.244484, shape=(), dtype=float32)\n",
      "tf.Tensor(2.2343519, shape=(), dtype=float32)\n",
      "tf.Tensor(2.21906, shape=(), dtype=float32)\n",
      "tf.Tensor(2.2357297, shape=(), dtype=float32)\n",
      "tf.Tensor(2.194501, shape=(), dtype=float32)\n",
      "tf.Tensor(2.29487, shape=(), dtype=float32)\n",
      "tf.Tensor(2.2496076, shape=(), dtype=float32)\n",
      "tf.Tensor(2.221817, shape=(), dtype=float32)\n",
      "tf.Tensor(2.263639, shape=(), dtype=float32)\n",
      "tf.Tensor(2.250225, shape=(), dtype=float32)\n",
      "tf.Tensor(2.2271242, shape=(), dtype=float32)\n",
      "tf.Tensor(2.2406816, shape=(), dtype=float32)\n",
      "tf.Tensor(2.2494912, shape=(), dtype=float32)\n",
      "tf.Tensor(2.2724233, shape=(), dtype=float32)\n",
      "tf.Tensor(2.2246695, shape=(), dtype=float32)\n",
      "tf.Tensor(2.250942, shape=(), dtype=float32)\n",
      "tf.Tensor(2.211784, shape=(), dtype=float32)\n",
      "tf.Tensor(2.2615457, shape=(), dtype=float32)\n",
      "tf.Tensor(2.228778, shape=(), dtype=float32)\n",
      "tf.Tensor(2.2459934, shape=(), dtype=float32)\n",
      "tf.Tensor(2.2112908, shape=(), dtype=float32)\n",
      "tf.Tensor(2.2651877, shape=(), dtype=float32)\n",
      "tf.Tensor(2.2193503, shape=(), dtype=float32)\n"
     ]
    },
    {
     "name": "stdout",
     "output_type": "stream",
     "text": [
      "tf.Tensor(2.256456, shape=(), dtype=float32)\n",
      "tf.Tensor(2.2728596, shape=(), dtype=float32)\n",
      "tf.Tensor(2.2362113, shape=(), dtype=float32)\n",
      "tf.Tensor(2.2322571, shape=(), dtype=float32)\n",
      "tf.Tensor(2.2160006, shape=(), dtype=float32)\n",
      "tf.Tensor(2.2324033, shape=(), dtype=float32)\n",
      "tf.Tensor(2.1951957, shape=(), dtype=float32)\n",
      "tf.Tensor(2.2076073, shape=(), dtype=float32)\n",
      "tf.Tensor(2.2063093, shape=(), dtype=float32)\n",
      "tf.Tensor(2.2162795, shape=(), dtype=float32)\n",
      "tf.Tensor(2.1668935, shape=(), dtype=float32)\n",
      "tf.Tensor(2.2461364, shape=(), dtype=float32)\n",
      "tf.Tensor(2.2203891, shape=(), dtype=float32)\n",
      "tf.Tensor(2.2203834, shape=(), dtype=float32)\n",
      "tf.Tensor(2.2012486, shape=(), dtype=float32)\n",
      "tf.Tensor(2.2096026, shape=(), dtype=float32)\n",
      "tf.Tensor(2.196995, shape=(), dtype=float32)\n",
      "tf.Tensor(2.2413652, shape=(), dtype=float32)\n",
      "tf.Tensor(2.2204132, shape=(), dtype=float32)\n",
      "tf.Tensor(2.255425, shape=(), dtype=float32)\n",
      "tf.Tensor(2.190711, shape=(), dtype=float32)\n",
      "tf.Tensor(2.1818318, shape=(), dtype=float32)\n",
      "tf.Tensor(2.2494857, shape=(), dtype=float32)\n",
      "tf.Tensor(2.2199519, shape=(), dtype=float32)\n",
      "tf.Tensor(2.232905, shape=(), dtype=float32)\n",
      "tf.Tensor(2.2516441, shape=(), dtype=float32)\n",
      "tf.Tensor(2.2395885, shape=(), dtype=float32)\n",
      "tf.Tensor(2.1943517, shape=(), dtype=float32)\n",
      "tf.Tensor(2.1932015, shape=(), dtype=float32)\n",
      "tf.Tensor(2.1980882, shape=(), dtype=float32)\n",
      "tf.Tensor(2.2067857, shape=(), dtype=float32)\n",
      "tf.Tensor(2.2243772, shape=(), dtype=float32)\n",
      "tf.Tensor(2.1971116, shape=(), dtype=float32)\n",
      "tf.Tensor(2.1828313, shape=(), dtype=float32)\n",
      "tf.Tensor(2.1726346, shape=(), dtype=float32)\n",
      "tf.Tensor(2.2314696, shape=(), dtype=float32)\n",
      "tf.Tensor(2.1840758, shape=(), dtype=float32)\n",
      "tf.Tensor(2.2159717, shape=(), dtype=f"
     ]
    },
    {
     "data": {
      "text/html": [
       "<b>limit_output extension: Maximum message size of 10000 exceeded with 10191 characters</b>"
      ]
     },
     "metadata": {},
     "output_type": "display_data"
    },
    {
     "ename": "KeyboardInterrupt",
     "evalue": "",
     "output_type": "error",
     "traceback": [
      "\u001b[1;31m---------------------------------------------------------------------------\u001b[0m",
      "\u001b[1;31mKeyboardInterrupt\u001b[0m                         Traceback (most recent call last)",
      "\u001b[1;32m<ipython-input-5-f46e3793ce42>\u001b[0m in \u001b[0;36m<module>\u001b[1;34m\u001b[0m\n\u001b[0;32m      2\u001b[0m \u001b[1;32mfor\u001b[0m \u001b[0mepoch\u001b[0m \u001b[1;32min\u001b[0m \u001b[0mrange\u001b[0m\u001b[1;33m(\u001b[0m\u001b[0mepochs\u001b[0m\u001b[1;33m)\u001b[0m\u001b[1;33m:\u001b[0m\u001b[1;33m\u001b[0m\u001b[1;33m\u001b[0m\u001b[0m\n\u001b[0;32m      3\u001b[0m     \u001b[1;32mfor\u001b[0m \u001b[1;33m(\u001b[0m\u001b[0mbatch\u001b[0m\u001b[1;33m,\u001b[0m \u001b[1;33m(\u001b[0m\u001b[0mimages\u001b[0m\u001b[1;33m,\u001b[0m \u001b[0mlabels\u001b[0m\u001b[1;33m)\u001b[0m\u001b[1;33m)\u001b[0m \u001b[1;32min\u001b[0m \u001b[0menumerate\u001b[0m\u001b[1;33m(\u001b[0m\u001b[0mdataset\u001b[0m\u001b[1;33m)\u001b[0m\u001b[1;33m:\u001b[0m\u001b[1;33m\u001b[0m\u001b[1;33m\u001b[0m\u001b[0m\n\u001b[1;32m----> 4\u001b[1;33m       \u001b[0mtrain_step\u001b[0m\u001b[1;33m(\u001b[0m\u001b[0mimages\u001b[0m\u001b[1;33m,\u001b[0m \u001b[0mlabels\u001b[0m\u001b[1;33m)\u001b[0m\u001b[1;33m\u001b[0m\u001b[1;33m\u001b[0m\u001b[0m\n\u001b[0m\u001b[0;32m      5\u001b[0m     \u001b[0mprint\u001b[0m \u001b[1;33m(\u001b[0m\u001b[1;34m'Epoch {} finished'\u001b[0m\u001b[1;33m.\u001b[0m\u001b[0mformat\u001b[0m\u001b[1;33m(\u001b[0m\u001b[0mepoch\u001b[0m\u001b[1;33m)\u001b[0m\u001b[1;33m)\u001b[0m\u001b[1;33m\u001b[0m\u001b[1;33m\u001b[0m\u001b[0m\n",
      "\u001b[1;32m<ipython-input-4-a60e1d027d43>\u001b[0m in \u001b[0;36mtrain_step\u001b[1;34m(images, labels)\u001b[0m\n\u001b[0;32m      1\u001b[0m \u001b[1;32mdef\u001b[0m \u001b[0mtrain_step\u001b[0m\u001b[1;33m(\u001b[0m\u001b[0mimages\u001b[0m\u001b[1;33m,\u001b[0m \u001b[0mlabels\u001b[0m\u001b[1;33m)\u001b[0m\u001b[1;33m:\u001b[0m\u001b[1;33m\u001b[0m\u001b[1;33m\u001b[0m\u001b[0m\n\u001b[0;32m      2\u001b[0m   \u001b[1;32mwith\u001b[0m \u001b[0mtf\u001b[0m\u001b[1;33m.\u001b[0m\u001b[0mGradientTape\u001b[0m\u001b[1;33m(\u001b[0m\u001b[1;33m)\u001b[0m \u001b[1;32mas\u001b[0m \u001b[0mtape\u001b[0m\u001b[1;33m:\u001b[0m\u001b[1;33m\u001b[0m\u001b[1;33m\u001b[0m\u001b[0m\n\u001b[1;32m----> 3\u001b[1;33m     \u001b[0mlogits\u001b[0m \u001b[1;33m=\u001b[0m \u001b[0mmnist_model\u001b[0m\u001b[1;33m(\u001b[0m\u001b[0mimages\u001b[0m\u001b[1;33m,\u001b[0m \u001b[0mtraining\u001b[0m\u001b[1;33m=\u001b[0m\u001b[1;32mTrue\u001b[0m\u001b[1;33m)\u001b[0m\u001b[1;33m\u001b[0m\u001b[1;33m\u001b[0m\u001b[0m\n\u001b[0m\u001b[0;32m      4\u001b[0m \u001b[1;33m\u001b[0m\u001b[0m\n\u001b[0;32m      5\u001b[0m     \u001b[1;31m# Add asserts to check the shape of the output.\u001b[0m\u001b[1;33m\u001b[0m\u001b[1;33m\u001b[0m\u001b[1;33m\u001b[0m\u001b[0m\n",
      "\u001b[1;32mc:\\users\\jonathan\\pycharmprojects\\notebook\\venv\\lib\\site-packages\\tensorflow\\python\\keras\\engine\\base_layer.py\u001b[0m in \u001b[0;36m__call__\u001b[1;34m(self, *args, **kwargs)\u001b[0m\n\u001b[0;32m    983\u001b[0m \u001b[1;33m\u001b[0m\u001b[0m\n\u001b[0;32m    984\u001b[0m         \u001b[1;32mwith\u001b[0m \u001b[0mops\u001b[0m\u001b[1;33m.\u001b[0m\u001b[0menable_auto_cast_variables\u001b[0m\u001b[1;33m(\u001b[0m\u001b[0mself\u001b[0m\u001b[1;33m.\u001b[0m\u001b[0m_compute_dtype_object\u001b[0m\u001b[1;33m)\u001b[0m\u001b[1;33m:\u001b[0m\u001b[1;33m\u001b[0m\u001b[1;33m\u001b[0m\u001b[0m\n\u001b[1;32m--> 985\u001b[1;33m           \u001b[0moutputs\u001b[0m \u001b[1;33m=\u001b[0m \u001b[0mcall_fn\u001b[0m\u001b[1;33m(\u001b[0m\u001b[0minputs\u001b[0m\u001b[1;33m,\u001b[0m \u001b[1;33m*\u001b[0m\u001b[0margs\u001b[0m\u001b[1;33m,\u001b[0m \u001b[1;33m**\u001b[0m\u001b[0mkwargs\u001b[0m\u001b[1;33m)\u001b[0m\u001b[1;33m\u001b[0m\u001b[1;33m\u001b[0m\u001b[0m\n\u001b[0m\u001b[0;32m    986\u001b[0m \u001b[1;33m\u001b[0m\u001b[0m\n\u001b[0;32m    987\u001b[0m         \u001b[1;32mif\u001b[0m \u001b[0mself\u001b[0m\u001b[1;33m.\u001b[0m\u001b[0m_activity_regularizer\u001b[0m\u001b[1;33m:\u001b[0m\u001b[1;33m\u001b[0m\u001b[1;33m\u001b[0m\u001b[0m\n",
      "\u001b[1;32mc:\\users\\jonathan\\pycharmprojects\\notebook\\venv\\lib\\site-packages\\tensorflow\\python\\keras\\engine\\sequential.py\u001b[0m in \u001b[0;36mcall\u001b[1;34m(self, inputs, training, mask)\u001b[0m\n\u001b[0;32m    370\u001b[0m       \u001b[1;32mif\u001b[0m \u001b[1;32mnot\u001b[0m \u001b[0mself\u001b[0m\u001b[1;33m.\u001b[0m\u001b[0mbuilt\u001b[0m\u001b[1;33m:\u001b[0m\u001b[1;33m\u001b[0m\u001b[1;33m\u001b[0m\u001b[0m\n\u001b[0;32m    371\u001b[0m         \u001b[0mself\u001b[0m\u001b[1;33m.\u001b[0m\u001b[0m_init_graph_network\u001b[0m\u001b[1;33m(\u001b[0m\u001b[0mself\u001b[0m\u001b[1;33m.\u001b[0m\u001b[0minputs\u001b[0m\u001b[1;33m,\u001b[0m \u001b[0mself\u001b[0m\u001b[1;33m.\u001b[0m\u001b[0moutputs\u001b[0m\u001b[1;33m)\u001b[0m\u001b[1;33m\u001b[0m\u001b[1;33m\u001b[0m\u001b[0m\n\u001b[1;32m--> 372\u001b[1;33m       \u001b[1;32mreturn\u001b[0m \u001b[0msuper\u001b[0m\u001b[1;33m(\u001b[0m\u001b[0mSequential\u001b[0m\u001b[1;33m,\u001b[0m \u001b[0mself\u001b[0m\u001b[1;33m)\u001b[0m\u001b[1;33m.\u001b[0m\u001b[0mcall\u001b[0m\u001b[1;33m(\u001b[0m\u001b[0minputs\u001b[0m\u001b[1;33m,\u001b[0m \u001b[0mtraining\u001b[0m\u001b[1;33m=\u001b[0m\u001b[0mtraining\u001b[0m\u001b[1;33m,\u001b[0m \u001b[0mmask\u001b[0m\u001b[1;33m=\u001b[0m\u001b[0mmask\u001b[0m\u001b[1;33m)\u001b[0m\u001b[1;33m\u001b[0m\u001b[1;33m\u001b[0m\u001b[0m\n\u001b[0m\u001b[0;32m    373\u001b[0m \u001b[1;33m\u001b[0m\u001b[0m\n\u001b[0;32m    374\u001b[0m     \u001b[0moutputs\u001b[0m \u001b[1;33m=\u001b[0m \u001b[0minputs\u001b[0m  \u001b[1;31m# handle the corner case where self.layers is empty\u001b[0m\u001b[1;33m\u001b[0m\u001b[1;33m\u001b[0m\u001b[0m\n",
      "\u001b[1;32mc:\\users\\jonathan\\pycharmprojects\\notebook\\venv\\lib\\site-packages\\tensorflow\\python\\keras\\engine\\functional.py\u001b[0m in \u001b[0;36mcall\u001b[1;34m(self, inputs, training, mask)\u001b[0m\n\u001b[0;32m    384\u001b[0m     \"\"\"\n\u001b[0;32m    385\u001b[0m     return self._run_internal_graph(\n\u001b[1;32m--> 386\u001b[1;33m         inputs, training=training, mask=mask)\n\u001b[0m\u001b[0;32m    387\u001b[0m \u001b[1;33m\u001b[0m\u001b[0m\n\u001b[0;32m    388\u001b[0m   \u001b[1;32mdef\u001b[0m \u001b[0mcompute_output_shape\u001b[0m\u001b[1;33m(\u001b[0m\u001b[0mself\u001b[0m\u001b[1;33m,\u001b[0m \u001b[0minput_shape\u001b[0m\u001b[1;33m)\u001b[0m\u001b[1;33m:\u001b[0m\u001b[1;33m\u001b[0m\u001b[1;33m\u001b[0m\u001b[0m\n",
      "\u001b[1;32mc:\\users\\jonathan\\pycharmprojects\\notebook\\venv\\lib\\site-packages\\tensorflow\\python\\keras\\engine\\functional.py\u001b[0m in \u001b[0;36m_run_internal_graph\u001b[1;34m(self, inputs, training, mask)\u001b[0m\n\u001b[0;32m    506\u001b[0m \u001b[1;33m\u001b[0m\u001b[0m\n\u001b[0;32m    507\u001b[0m         \u001b[0margs\u001b[0m\u001b[1;33m,\u001b[0m \u001b[0mkwargs\u001b[0m \u001b[1;33m=\u001b[0m \u001b[0mnode\u001b[0m\u001b[1;33m.\u001b[0m\u001b[0mmap_arguments\u001b[0m\u001b[1;33m(\u001b[0m\u001b[0mtensor_dict\u001b[0m\u001b[1;33m)\u001b[0m\u001b[1;33m\u001b[0m\u001b[1;33m\u001b[0m\u001b[0m\n\u001b[1;32m--> 508\u001b[1;33m         \u001b[0moutputs\u001b[0m \u001b[1;33m=\u001b[0m \u001b[0mnode\u001b[0m\u001b[1;33m.\u001b[0m\u001b[0mlayer\u001b[0m\u001b[1;33m(\u001b[0m\u001b[1;33m*\u001b[0m\u001b[0margs\u001b[0m\u001b[1;33m,\u001b[0m \u001b[1;33m**\u001b[0m\u001b[0mkwargs\u001b[0m\u001b[1;33m)\u001b[0m\u001b[1;33m\u001b[0m\u001b[1;33m\u001b[0m\u001b[0m\n\u001b[0m\u001b[0;32m    509\u001b[0m \u001b[1;33m\u001b[0m\u001b[0m\n\u001b[0;32m    510\u001b[0m         \u001b[1;31m# Update tensor_dict.\u001b[0m\u001b[1;33m\u001b[0m\u001b[1;33m\u001b[0m\u001b[1;33m\u001b[0m\u001b[0m\n",
      "\u001b[1;32mc:\\users\\jonathan\\pycharmprojects\\notebook\\venv\\lib\\site-packages\\tensorflow\\python\\keras\\engine\\base_layer.py\u001b[0m in \u001b[0;36m__call__\u001b[1;34m(self, *args, **kwargs)\u001b[0m\n\u001b[0;32m    983\u001b[0m \u001b[1;33m\u001b[0m\u001b[0m\n\u001b[0;32m    984\u001b[0m         \u001b[1;32mwith\u001b[0m \u001b[0mops\u001b[0m\u001b[1;33m.\u001b[0m\u001b[0menable_auto_cast_variables\u001b[0m\u001b[1;33m(\u001b[0m\u001b[0mself\u001b[0m\u001b[1;33m.\u001b[0m\u001b[0m_compute_dtype_object\u001b[0m\u001b[1;33m)\u001b[0m\u001b[1;33m:\u001b[0m\u001b[1;33m\u001b[0m\u001b[1;33m\u001b[0m\u001b[0m\n\u001b[1;32m--> 985\u001b[1;33m           \u001b[0moutputs\u001b[0m \u001b[1;33m=\u001b[0m \u001b[0mcall_fn\u001b[0m\u001b[1;33m(\u001b[0m\u001b[0minputs\u001b[0m\u001b[1;33m,\u001b[0m \u001b[1;33m*\u001b[0m\u001b[0margs\u001b[0m\u001b[1;33m,\u001b[0m \u001b[1;33m**\u001b[0m\u001b[0mkwargs\u001b[0m\u001b[1;33m)\u001b[0m\u001b[1;33m\u001b[0m\u001b[1;33m\u001b[0m\u001b[0m\n\u001b[0m\u001b[0;32m    986\u001b[0m \u001b[1;33m\u001b[0m\u001b[0m\n\u001b[0;32m    987\u001b[0m         \u001b[1;32mif\u001b[0m \u001b[0mself\u001b[0m\u001b[1;33m.\u001b[0m\u001b[0m_activity_regularizer\u001b[0m\u001b[1;33m:\u001b[0m\u001b[1;33m\u001b[0m\u001b[1;33m\u001b[0m\u001b[0m\n",
      "\u001b[1;32mc:\\users\\jonathan\\pycharmprojects\\notebook\\venv\\lib\\site-packages\\tensorflow\\python\\keras\\layers\\convolutional.py\u001b[0m in \u001b[0;36mcall\u001b[1;34m(self, inputs)\u001b[0m\n\u001b[0;32m    264\u001b[0m         \u001b[1;32melse\u001b[0m\u001b[1;33m:\u001b[0m\u001b[1;33m\u001b[0m\u001b[1;33m\u001b[0m\u001b[0m\n\u001b[0;32m    265\u001b[0m           outputs = nn.bias_add(\n\u001b[1;32m--> 266\u001b[1;33m               outputs, self.bias, data_format=self._tf_data_format)\n\u001b[0m\u001b[0;32m    267\u001b[0m \u001b[1;33m\u001b[0m\u001b[0m\n\u001b[0;32m    268\u001b[0m     \u001b[1;32mif\u001b[0m \u001b[0mself\u001b[0m\u001b[1;33m.\u001b[0m\u001b[0mactivation\u001b[0m \u001b[1;32mis\u001b[0m \u001b[1;32mnot\u001b[0m \u001b[1;32mNone\u001b[0m\u001b[1;33m:\u001b[0m\u001b[1;33m\u001b[0m\u001b[1;33m\u001b[0m\u001b[0m\n",
      "\u001b[1;32mc:\\users\\jonathan\\pycharmprojects\\notebook\\venv\\lib\\site-packages\\tensorflow\\python\\util\\dispatch.py\u001b[0m in \u001b[0;36mwrapper\u001b[1;34m(*args, **kwargs)\u001b[0m\n\u001b[0;32m    199\u001b[0m     \u001b[1;34m\"\"\"Call target, and fall back on dispatchers if there is a TypeError.\"\"\"\u001b[0m\u001b[1;33m\u001b[0m\u001b[1;33m\u001b[0m\u001b[0m\n\u001b[0;32m    200\u001b[0m     \u001b[1;32mtry\u001b[0m\u001b[1;33m:\u001b[0m\u001b[1;33m\u001b[0m\u001b[1;33m\u001b[0m\u001b[0m\n\u001b[1;32m--> 201\u001b[1;33m       \u001b[1;32mreturn\u001b[0m \u001b[0mtarget\u001b[0m\u001b[1;33m(\u001b[0m\u001b[1;33m*\u001b[0m\u001b[0margs\u001b[0m\u001b[1;33m,\u001b[0m \u001b[1;33m**\u001b[0m\u001b[0mkwargs\u001b[0m\u001b[1;33m)\u001b[0m\u001b[1;33m\u001b[0m\u001b[1;33m\u001b[0m\u001b[0m\n\u001b[0m\u001b[0;32m    202\u001b[0m     \u001b[1;32mexcept\u001b[0m \u001b[1;33m(\u001b[0m\u001b[0mTypeError\u001b[0m\u001b[1;33m,\u001b[0m \u001b[0mValueError\u001b[0m\u001b[1;33m)\u001b[0m\u001b[1;33m:\u001b[0m\u001b[1;33m\u001b[0m\u001b[1;33m\u001b[0m\u001b[0m\n\u001b[0;32m    203\u001b[0m       \u001b[1;31m# Note: convert_to_eager_tensor currently raises a ValueError, not a\u001b[0m\u001b[1;33m\u001b[0m\u001b[1;33m\u001b[0m\u001b[1;33m\u001b[0m\u001b[0m\n",
      "\u001b[1;32mc:\\users\\jonathan\\pycharmprojects\\notebook\\venv\\lib\\site-packages\\tensorflow\\python\\ops\\nn_ops.py\u001b[0m in \u001b[0;36mbias_add\u001b[1;34m(value, bias, data_format, name)\u001b[0m\n\u001b[0;32m   3365\u001b[0m     \u001b[1;32melse\u001b[0m\u001b[1;33m:\u001b[0m\u001b[1;33m\u001b[0m\u001b[1;33m\u001b[0m\u001b[0m\n\u001b[0;32m   3366\u001b[0m       return gen_nn_ops.bias_add(\n\u001b[1;32m-> 3367\u001b[1;33m           value, bias, data_format=data_format, name=name)\n\u001b[0m\u001b[0;32m   3368\u001b[0m \u001b[1;33m\u001b[0m\u001b[0m\n\u001b[0;32m   3369\u001b[0m \u001b[1;33m\u001b[0m\u001b[0m\n",
      "\u001b[1;32mc:\\users\\jonathan\\pycharmprojects\\notebook\\venv\\lib\\site-packages\\tensorflow\\python\\ops\\gen_nn_ops.py\u001b[0m in \u001b[0;36mbias_add\u001b[1;34m(value, bias, data_format, name)\u001b[0m\n\u001b[0;32m    676\u001b[0m       _result = pywrap_tfe.TFE_Py_FastPathExecute(\n\u001b[0;32m    677\u001b[0m         \u001b[0m_ctx\u001b[0m\u001b[1;33m.\u001b[0m\u001b[0m_context_handle\u001b[0m\u001b[1;33m,\u001b[0m \u001b[0mtld\u001b[0m\u001b[1;33m.\u001b[0m\u001b[0mdevice_name\u001b[0m\u001b[1;33m,\u001b[0m \u001b[1;34m\"BiasAdd\"\u001b[0m\u001b[1;33m,\u001b[0m \u001b[0mname\u001b[0m\u001b[1;33m,\u001b[0m\u001b[1;33m\u001b[0m\u001b[1;33m\u001b[0m\u001b[0m\n\u001b[1;32m--> 678\u001b[1;33m         tld.op_callbacks, value, bias, \"data_format\", data_format)\n\u001b[0m\u001b[0;32m    679\u001b[0m       \u001b[1;32mreturn\u001b[0m \u001b[0m_result\u001b[0m\u001b[1;33m\u001b[0m\u001b[1;33m\u001b[0m\u001b[0m\n\u001b[0;32m    680\u001b[0m     \u001b[1;32mexcept\u001b[0m \u001b[0m_core\u001b[0m\u001b[1;33m.\u001b[0m\u001b[0m_NotOkStatusException\u001b[0m \u001b[1;32mas\u001b[0m \u001b[0me\u001b[0m\u001b[1;33m:\u001b[0m\u001b[1;33m\u001b[0m\u001b[1;33m\u001b[0m\u001b[0m\n",
      "\u001b[1;31mKeyboardInterrupt\u001b[0m: "
     ]
    }
   ],
   "source": [
    "epochs = 3\n",
    "for epoch in range(epochs):\n",
    "    for (batch, (images, labels)) in enumerate(dataset):\n",
    "      train_step(images, labels)\n",
    "    print ('Epoch {} finished'.format(epoch))"
   ]
  },
  {
   "cell_type": "code",
   "execution_count": 51,
   "metadata": {},
   "outputs": [
    {
     "data": {
      "text/plain": [
       "Text(0, 0.5, 'Loss [entropy]')"
      ]
     },
     "execution_count": 51,
     "metadata": {},
     "output_type": "execute_result"
    },
    {
     "data": {
      "image/png": "[encoded data removed]",
      "text/plain": [
       "<Figure size 432x288 with 1 Axes>"
      ]
     },
     "metadata": {
      "needs_background": "light"
     },
     "output_type": "display_data"
    }
   ],
   "source": [
    "import matplotlib.pyplot as plt\n",
    "\n",
    "plt.plot(loss_history)\n",
    "plt.xlabel('Batch #')\n",
    "plt.ylabel('Loss [entropy]')"
   ]
  },
  {
   "cell_type": "code",
   "execution_count": 96,
   "metadata": {},
   "outputs": [
    {
     "name": "stdout",
     "output_type": "stream",
     "text": [
      "tf.Tensor(True, shape=(), dtype=bool)\n",
      "tf.Tensor(False, shape=(), dtype=bool)\n",
      "tf.Tensor(False, shape=(), dtype=bool)\n",
      "tf.Tensor(True, shape=(), dtype=bool)\n",
      "tf.Tensor(True, shape=(), dtype=bool)\n",
      "tf.Tensor(True, shape=(), dtype=bool)\n",
      "tf.Tensor(False, shape=(), dtype=bool)\n",
      "tf.Tensor(False, shape=(), dtype=bool)\n",
      "tf.Tensor(True, shape=(), dtype=bool)\n",
      "tf.Tensor(True, shape=(), dtype=bool)\n",
      "tf.Tensor(True, shape=(), dtype=bool)\n",
      "tf.Tensor(False, shape=(), dtype=bool)\n",
      "tf.Tensor(True, shape=(), dtype=bool)\n",
      "tf.Tensor(True, shape=(), dtype=bool)\n",
      "tf.Tensor(True, shape=(), dtype=bool)\n",
      "tf.Tensor(True, shape=(), dtype=bool)\n",
      "tf.Tensor(True, shape=(), dtype=bool)\n",
      "tf.Tensor(True, shape=(), dtype=bool)\n",
      "tf.Tensor(True, shape=(), dtype=bool)\n",
      "tf.Tensor(True, shape=(), dtype=bool)\n",
      "tf.Tensor(False, shape=(), dtype=bool)\n",
      "tf.Tensor(False, shape=(), dtype=bool)\n",
      "tf.Tensor(True, shape=(), dtype=bool)\n",
      "tf.Tensor(True, shape=(), dtype=bool)\n",
      "tf.Tensor(False, shape=(), dtype=bool)\n",
      "tf.Tensor(True, shape=(), dtype=bool)\n",
      "tf.Tensor(True, shape=(), dtype=bool)\n",
      "tf.Tensor(False, shape=(), dtype=bool)\n",
      "tf.Tensor(False, shape=(), dtype=bool)\n",
      "tf.Tensor(True, shape=(), dtype=bool)\n",
      "tf.Tensor(True, shape=(), dtype=bool)\n",
      "tf.Tensor(False, shape=(), dtype=bool)\n"
     ]
    }
   ],
   "source": [
    "mnist_example = dataset.take(1)\n",
    "for image,labels in mnist_example.as_numpy_iterator():\n",
    "    p = tf.argmax(mnist_model.predict(image),axis=1)\n",
    "    for i,w in enumerate(p):\n",
    "        print(w==labels[i])"
   ]
  }
 ],
 "metadata": {
  "kernelspec": {
   "display_name": "Python 3",
   "language": "python",
   "name": "python3"
  },
  "language_info": {
   "codemirror_mode": {
    "name": "ipython",
    "version": 3
   },
   "file_extension": ".py",
   "mimetype": "text/x-python",
   "name": "python",
   "nbconvert_exporter": "python",
   "pygments_lexer": "ipython3",
   "version": "3.7.4"
  },
  "latex_envs": {
   "LaTeX_envs_menu_present": true,
   "autoclose": false,
   "autocomplete": true,
   "bibliofile": "biblio.bib",
   "cite_by": "apalike",
   "current_citInitial": 1,
   "eqLabelWithNumbers": true,
   "eqNumInitial": 1,
   "hotkeys": {
    "equation": "Ctrl-E",
    "itemize": "Ctrl-I"
   },
   "labels_anchors": false,
   "latex_user_defs": false,
   "report_style_numbering": false,
   "user_envs_cfg": false
  }
 },
 "nbformat": 4,
 "nbformat_minor": 4
}

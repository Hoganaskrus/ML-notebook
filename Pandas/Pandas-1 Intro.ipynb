{
 "cells": [
  {
   "cell_type": "markdown",
   "metadata": {},
   "source": [
    "Pandas is good for some data manipulation and analysis. Like mention in the numpy notebook, that sometimes we want structured arrays. Pandas is very good at handeling DataFrame object. I personally feels that pandas sometime can be a bit clumsy, but hope that this notebook will help me fix that. \n",
    "\n",
    "From what I understand, pandas uses numpy arrays, thus for a serie it can only hold 1 dype of data. "
   ]
  },
  {
   "cell_type": "code",
   "execution_count": 3,
   "metadata": {},
   "outputs": [],
   "source": [
    "import pandas as pd\n",
    "import numpy as np"
   ]
  },
  {
   "cell_type": "code",
   "execution_count": 5,
   "metadata": {},
   "outputs": [
    {
     "name": "stdout",
     "output_type": "stream",
     "text": [
      "Series([], dtype: float64)\n"
     ]
    },
    {
     "name": "stderr",
     "output_type": "stream",
     "text": [
      "c:\\users\\jonathan\\pycharmprojects\\notebook\\venv\\lib\\site-packages\\ipykernel_launcher.py:1: DeprecationWarning: The default dtype for empty Series will be 'object' instead of 'float64' in a future version. Specify a dtype explicitly to silence this warning.\n",
      "  \"\"\"Entry point for launching an IPython kernel.\n"
     ]
    }
   ],
   "source": [
    "s = pd.Series()\n",
    "print(s)"
   ]
  },
  {
   "cell_type": "code",
   "execution_count": 7,
   "metadata": {
    "scrolled": false
   },
   "outputs": [
    {
     "name": "stdout",
     "output_type": "stream",
     "text": [
      "0    0.2\n",
      "1    0.4\n",
      "dtype: float64\n"
     ]
    }
   ],
   "source": [
    "s = pd.Series(np.array([0.2,0.4]))\n",
    "print(s)"
   ]
  },
  {
   "cell_type": "markdown",
   "metadata": {},
   "source": [
    "So a serie is basically a numpy array but with an index (in this case the same usual). The default index is np.arrange(n), as one expect and the default index is float64 but they will change it to python object, but if data is given the data type will be inferred. "
   ]
  },
  {
   "cell_type": "markdown",
   "metadata": {},
   "source": [
    "Since we have indices we can pass a dictionary to get custom index (ofc can one also explicit create a index array)."
   ]
  },
  {
   "cell_type": "code",
   "execution_count": 9,
   "metadata": {
    "scrolled": true
   },
   "outputs": [
    {
     "name": "stdout",
     "output_type": "stream",
     "text": [
      "a    1\n",
      "b    2\n",
      "c    3\n",
      "dtype: int64\n"
     ]
    }
   ],
   "source": [
    "index_dict = {'a' : 1,'b' :2 , 'c' :3  }\n",
    "s = pd.Series(index_dict)\n",
    "print(s)"
   ]
  },
  {
   "cell_type": "markdown",
   "metadata": {},
   "source": [
    "They index, obviousily help us index the data. So in our example above, if it was real data and we have a larger set of indices we can add them and expand the serie."
   ]
  },
  {
   "cell_type": "code",
   "execution_count": 11,
   "metadata": {
    "scrolled": true
   },
   "outputs": [
    {
     "name": "stdout",
     "output_type": "stream",
     "text": [
      "e    NaN\n",
      "d    NaN\n",
      "c    3.0\n",
      "b    2.0\n",
      "a    1.0\n",
      "z    NaN\n",
      "dtype: float16\n"
     ]
    }
   ],
   "source": [
    "index_dict = {'a' : 1,'b' :2 , 'c' :3  }\n",
    "s = pd.Series(index_dict, index = ['e','d','c','b','a','z'],dtype=np.float16)\n",
    "print(s)"
   ]
  },
  {
   "cell_type": "markdown",
   "metadata": {},
   "source": [
    "Receiving data from a serie is like with numpy but we can both think of it as a dict and as an array. If we want a single element it returns the scalar otherwise it returns a serie"
   ]
  },
  {
   "cell_type": "code",
   "execution_count": 16,
   "metadata": {},
   "outputs": [
    {
     "name": "stdout",
     "output_type": "stream",
     "text": [
      "3.0\n",
      "<class 'numpy.float16'>\n",
      "0x21c657f2d30\n",
      "e    NaN\n",
      "d    NaN\n",
      "c    3.0\n",
      "b    2.0\n",
      "a    1.0\n",
      "z    NaN\n",
      "dtype: float16\n",
      "<class 'pandas.core.series.Series'>\n",
      "0x21c648bba48\n",
      "0x21c662cee88\n",
      "\n",
      "1.0\n",
      "a    1.0\n",
      "c    3.0\n",
      "d    NaN\n",
      "dtype: float16\n"
     ]
    }
   ],
   "source": [
    "index_dict = {'a' : 1,'b' :2 , 'c' :3  }\n",
    "s = pd.Series(index_dict, index = ['e','d','c','b','a','z'],dtype=np.float16)\n",
    "\n",
    "print(s[2])\n",
    "print(type(s[2]))\n",
    "print(hex(id(s[2])))\n",
    "print(s[:])\n",
    "print(type(s))\n",
    "print(hex(id(s)))\n",
    "print(hex(id(s[:]))+'\\n')\n",
    "\n",
    "print(s['a'])\n",
    "print (s[['a','c','d']])"
   ]
  }
 ],
 "metadata": {
  "kernelspec": {
   "display_name": "Python 3",
   "language": "python",
   "name": "python3"
  },
  "language_info": {
   "codemirror_mode": {
    "name": "ipython",
    "version": 3
   },
   "file_extension": ".py",
   "mimetype": "text/x-python",
   "name": "python",
   "nbconvert_exporter": "python",
   "pygments_lexer": "ipython3",
   "version": "3.7.4"
  },
  "latex_envs": {
   "LaTeX_envs_menu_present": true,
   "autoclose": false,
   "autocomplete": true,
   "bibliofile": "biblio.bib",
   "cite_by": "apalike",
   "current_citInitial": 1,
   "eqLabelWithNumbers": true,
   "eqNumInitial": 1,
   "hotkeys": {
    "equation": "Ctrl-E",
    "itemize": "Ctrl-I"
   },
   "labels_anchors": false,
   "latex_user_defs": false,
   "report_style_numbering": false,
   "user_envs_cfg": false
  }
 },
 "nbformat": 4,
 "nbformat_minor": 4
}

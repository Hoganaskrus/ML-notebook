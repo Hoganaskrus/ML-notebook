{
 "cells": [
  {
   "cell_type": "code",
   "execution_count": 1,
   "metadata": {},
   "outputs": [],
   "source": [
    "import pandas as pd\n",
    "import numpy as np"
   ]
  },
  {
   "cell_type": "markdown",
   "metadata": {},
   "source": [
    "We saw that if we didn't add any indices (key but not unique), it automatically became np.range(n). Let's initialize a dataframe and see what index does for us.  "
   ]
  },
  {
   "cell_type": "code",
   "execution_count": 7,
   "metadata": {
    "scrolled": true
   },
   "outputs": [
    {
     "name": "stdout",
     "output_type": "stream",
     "text": [
      "      Copenhagen     Oslo\n",
      "2012      423967   454552\n",
      "2013      540000  2342341\n"
     ]
    }
   ],
   "source": [
    "area_dict = {'Copenhagen': np.array([423967, 540000]), 'Oslo': np.array([454552, 2342341])}\n",
    "df = pd.DataFrame(area_dict,index=['2012','2013'])\n",
    "print(df)"
   ]
  },
  {
   "cell_type": "code",
   "execution_count": 8,
   "metadata": {},
   "outputs": [
    {
     "name": "stdout",
     "output_type": "stream",
     "text": [
      "Index(['2012', '2013'], dtype='object')\n"
     ]
    }
   ],
   "source": [
    "print(df.index)"
   ]
  },
  {
   "cell_type": "markdown",
   "metadata": {},
   "source": [
    "Let's try to change the index 2012 to 2011."
   ]
  },
  {
   "cell_type": "code",
   "execution_count": 9,
   "metadata": {
    "scrolled": true
   },
   "outputs": [
    {
     "ename": "TypeError",
     "evalue": "Index does not support mutable operations",
     "output_type": "error",
     "traceback": [
      "\u001b[1;31m---------------------------------------------------------------------------\u001b[0m",
      "\u001b[1;31mTypeError\u001b[0m                                 Traceback (most recent call last)",
      "\u001b[1;32m<ipython-input-9-64a9228dd6e5>\u001b[0m in \u001b[0;36m<module>\u001b[1;34m\u001b[0m\n\u001b[1;32m----> 1\u001b[1;33m \u001b[0mdf\u001b[0m\u001b[1;33m.\u001b[0m\u001b[0mindex\u001b[0m\u001b[1;33m[\u001b[0m\u001b[1;36m0\u001b[0m\u001b[1;33m]\u001b[0m \u001b[1;33m=\u001b[0m \u001b[1;36m2011\u001b[0m\u001b[1;33m\u001b[0m\u001b[1;33m\u001b[0m\u001b[0m\n\u001b[0m",
      "\u001b[1;32mc:\\users\\jonathan\\pycharmprojects\\notebook\\venv\\lib\\site-packages\\pandas\\core\\indexes\\base.py\u001b[0m in \u001b[0;36m__setitem__\u001b[1;34m(self, key, value)\u001b[0m\n\u001b[0;32m   4073\u001b[0m \u001b[1;33m\u001b[0m\u001b[0m\n\u001b[0;32m   4074\u001b[0m     \u001b[1;32mdef\u001b[0m \u001b[0m__setitem__\u001b[0m\u001b[1;33m(\u001b[0m\u001b[0mself\u001b[0m\u001b[1;33m,\u001b[0m \u001b[0mkey\u001b[0m\u001b[1;33m,\u001b[0m \u001b[0mvalue\u001b[0m\u001b[1;33m)\u001b[0m\u001b[1;33m:\u001b[0m\u001b[1;33m\u001b[0m\u001b[1;33m\u001b[0m\u001b[0m\n\u001b[1;32m-> 4075\u001b[1;33m         \u001b[1;32mraise\u001b[0m \u001b[0mTypeError\u001b[0m\u001b[1;33m(\u001b[0m\u001b[1;34m\"Index does not support mutable operations\"\u001b[0m\u001b[1;33m)\u001b[0m\u001b[1;33m\u001b[0m\u001b[1;33m\u001b[0m\u001b[0m\n\u001b[0m\u001b[0;32m   4076\u001b[0m \u001b[1;33m\u001b[0m\u001b[0m\n\u001b[0;32m   4077\u001b[0m     \u001b[1;32mdef\u001b[0m \u001b[0m__getitem__\u001b[0m\u001b[1;33m(\u001b[0m\u001b[0mself\u001b[0m\u001b[1;33m,\u001b[0m \u001b[0mkey\u001b[0m\u001b[1;33m)\u001b[0m\u001b[1;33m:\u001b[0m\u001b[1;33m\u001b[0m\u001b[1;33m\u001b[0m\u001b[0m\n",
      "\u001b[1;31mTypeError\u001b[0m: Index does not support mutable operations"
     ]
    }
   ],
   "source": [
    "df.index[0] = 2011"
   ]
  },
  {
   "cell_type": "markdown",
   "metadata": {},
   "source": [
    "This make it \"safe\" to share indices between multiple Datafram i.e df2 = pd.Dataframe(np.array([[123,23],[123,15]],index=df.index))"
   ]
  },
  {
   "cell_type": "code",
   "execution_count": 11,
   "metadata": {
    "scrolled": false
   },
   "outputs": [
    {
     "name": "stdout",
     "output_type": "stream",
     "text": [
      "            A     x         y       C           D\n",
      "0  2016-01-01   0.0  0.353108  Medium  102.330961\n",
      "1  2016-01-02   1.0  0.476267     Low   98.144807\n",
      "2  2016-01-03   2.0  0.934286     Low   99.963559\n",
      "3  2016-01-04   3.0  0.229305     Low   96.339177\n",
      "4  2016-01-05   4.0  0.428432     Low   74.617710\n",
      "5  2016-01-06   5.0  0.704079     Low   91.886425\n",
      "6  2016-01-07   6.0  0.663186    High  105.101330\n",
      "7  2016-01-08   7.0  0.671174    High  117.767696\n",
      "8  2016-01-09   8.0  0.410049    High  108.324860\n",
      "9  2016-01-10   9.0  0.327010    High   95.709702\n",
      "10 2016-01-11  10.0  0.453116  Medium  109.682390\n",
      "11 2016-01-12  11.0  0.980820     Low  114.095773\n",
      "12 2016-01-13  12.0  0.557528    High   95.541339\n",
      "13 2016-01-14  13.0  0.525147  Medium  106.705714\n",
      "14 2016-01-15  14.0  0.235280  Medium  103.221339\n",
      "15 2016-01-16  15.0  0.738980    High   85.608438\n",
      "16 2016-01-17  16.0  0.514501     Low  107.532875\n",
      "17 2016-01-18  17.0  0.307569     Low  118.031047\n",
      "18 2016-01-19  18.0  0.486414     Low   89.081890\n",
      "19 2016-01-20  19.0  0.748207  Medium  113.639905\n",
      "            A     x         y       C           D\n",
      "0  2016-01-01   0.0  0.353108  Medium  102.330961\n",
      "1  2016-01-02   1.0  0.476267     Low   98.144807\n",
      "2  2016-01-03   2.0  0.934286     Low   99.963559\n",
      "3  2016-01-04   3.0  0.229305     Low   96.339177\n",
      "4  2016-01-05   4.0  0.428432     Low   74.617710\n",
      "5  2016-01-06   5.0  0.704079     Low   91.886425\n",
      "6  2016-01-07   6.0  0.663186    High  105.101330\n",
      "7  2016-01-08   7.0  0.671174    High  117.767696\n",
      "8  2016-01-09   8.0  0.410049    High  108.324860\n",
      "9  2016-01-10   9.0  0.327010    High   95.709702\n",
      "10 2016-01-11  10.0  0.453116  Medium  109.682390\n",
      "11 2016-01-12  11.0  0.980820     Low  114.095773\n",
      "12 2016-01-13  12.0  0.557528    High   95.541339\n",
      "13 2016-01-14  13.0  0.525147  Medium  106.705714\n",
      "14 2016-01-15  14.0  0.235280  Medium  103.221339\n",
      "15 2016-01-16  15.0  0.738980    High   85.608438\n",
      "16 2016-01-17  16.0  0.514501     Low  107.532875\n",
      "17 2016-01-18  17.0  0.307569     Low  118.031047\n",
      "18 2016-01-19  18.0  0.486414     Low   89.081890\n",
      "19 2016-01-20  19.0  0.748207  Medium  113.639905\n",
      "           A       C   B\n",
      "0 2016-01-01  Medium NaN\n",
      "2 2016-01-03     Low NaN\n",
      "5 2016-01-06     Low NaN\n",
      "            A     x         y       C           D\n",
      "0  2016-01-01   0.0  0.353108  Medium  102.330961\n",
      "1  2016-01-02   1.0  0.476267     Low   98.144807\n",
      "2  2016-01-03   2.0  0.934286     Low   99.963559\n",
      "3  2016-01-04   3.0  0.229305     Low   96.339177\n",
      "4  2016-01-05   4.0  0.428432     Low   74.617710\n",
      "5  2016-01-06   5.0  0.704079     Low   91.886425\n",
      "6  2016-01-07   6.0  0.663186    High  105.101330\n",
      "7  2016-01-08   7.0  0.671174    High  117.767696\n",
      "8  2016-01-09   8.0  0.410049    High  108.324860\n",
      "9  2016-01-10   9.0  0.327010    High   95.709702\n",
      "10 2016-01-11  10.0  0.453116  Medium  109.682390\n",
      "11 2016-01-12  11.0  0.980820     Low  114.095773\n",
      "12 2016-01-13  12.0  0.557528    High   95.541339\n",
      "13 2016-01-14  13.0  0.525147  Medium  106.705714\n",
      "14 2016-01-15  14.0  0.235280  Medium  103.221339\n",
      "15 2016-01-16  15.0  0.738980    High   85.608438\n",
      "16 2016-01-17  16.0  0.514501     Low  107.532875\n",
      "17 2016-01-18  17.0  0.307569     Low  118.031047\n",
      "18 2016-01-19  18.0  0.486414     Low   89.081890\n",
      "19 2016-01-20  19.0  0.748207  Medium  113.639905\n"
     ]
    }
   ],
   "source": [
    "N=20\n",
    "\n",
    "df = pd.DataFrame({\n",
    "   'A': pd.date_range(start='2016-01-01',periods=N,freq='D'),\n",
    "   'x': np.linspace(0,stop=N-1,num=N),\n",
    "   'y': np.random.rand(N),\n",
    "   'C': np.random.choice(['Low','Medium','High'],N).tolist(),\n",
    "   'D': np.random.normal(100, 10, size=(N)).tolist()\n",
    "})\n",
    "\n",
    "print(df)\n",
    "\n",
    "df.reindex(index=[0,2,5], columns=['A', 'C', 'B'])\n",
    "print(df)\n",
    "df_reindexed = df.reindex(index=[0,2,5], columns=['A', 'C', 'B'])\n",
    "\n",
    "print(df_reindexed)\n",
    "print(df)"
   ]
  },
  {
   "cell_type": "markdown",
   "metadata": {},
   "source": [
    "Usually in dataframe time is a natural index, i.e timeserie. Let's see if we can use the index system with a datetime-object "
   ]
  },
  {
   "cell_type": "code",
   "execution_count": 12,
   "metadata": {},
   "outputs": [],
   "source": [
    "from datetime import datetime, date, time"
   ]
  },
  {
   "cell_type": "code",
   "execution_count": 13,
   "metadata": {},
   "outputs": [],
   "source": [
    "year = 2015\n",
    "month = 1\n",
    "day = 20\n",
    "hour = 7\n",
    "minute = 28\n",
    "second = 15\n",
    "\n",
    "dt = datetime(year, month, day, hour, minute, second)"
   ]
  },
  {
   "cell_type": "code",
   "execution_count": 17,
   "metadata": {},
   "outputs": [
    {
     "data": {
      "text/plain": [
       "(7, 28, 15)"
      ]
     },
     "execution_count": 17,
     "metadata": {},
     "output_type": "execute_result"
    }
   ],
   "source": [
    "dt.hour, dt.minute, dt.second"
   ]
  },
  {
   "cell_type": "code",
   "execution_count": 16,
   "metadata": {
    "scrolled": false
   },
   "outputs": [
    {
     "data": {
      "text/plain": [
       "datetime.date(2015, 1, 20)"
      ]
     },
     "execution_count": 16,
     "metadata": {},
     "output_type": "execute_result"
    }
   ],
   "source": [
    "dt.date()"
   ]
  },
  {
   "cell_type": "markdown",
   "metadata": {},
   "source": [
    "Let's print it out in a string format."
   ]
  },
  {
   "cell_type": "code",
   "execution_count": 18,
   "metadata": {},
   "outputs": [
    {
     "data": {
      "text/plain": [
       "'01/20/2015 07:28'"
      ]
     },
     "execution_count": 18,
     "metadata": {},
     "output_type": "execute_result"
    }
   ],
   "source": [
    "dt.strftime('%m/%d/%Y %H:%M')"
   ]
  },
  {
   "cell_type": "markdown",
   "metadata": {},
   "source": [
    "We can also convert a string to a dateframe."
   ]
  },
  {
   "cell_type": "code",
   "execution_count": 19,
   "metadata": {},
   "outputs": [
    {
     "data": {
      "text/plain": [
       "datetime.datetime(2015, 1, 20, 0, 0)"
      ]
     },
     "execution_count": 19,
     "metadata": {},
     "output_type": "execute_result"
    }
   ],
   "source": [
    "datetime.strptime('20150120', '%Y%m%d')"
   ]
  },
  {
   "cell_type": "markdown",
   "metadata": {},
   "source": [
    "Datetime also has the ability to get current time"
   ]
  },
  {
   "cell_type": "code",
   "execution_count": 21,
   "metadata": {},
   "outputs": [
    {
     "name": "stdout",
     "output_type": "stream",
     "text": [
      "2039 days, 7:48:32.504124\n"
     ]
    }
   ],
   "source": [
    "dt_now = datetime.now()\n",
    "delta = dt_now - dt\n",
    "print(delta)"
   ]
  },
  {
   "cell_type": "markdown",
   "metadata": {},
   "source": [
    "Another good thing is that pandas has some datetime function"
   ]
  },
  {
   "cell_type": "code",
   "execution_count": 23,
   "metadata": {},
   "outputs": [
    {
     "data": {
      "text/plain": [
       "Timestamp('2015-01-20 00:00:00')"
      ]
     },
     "execution_count": 23,
     "metadata": {},
     "output_type": "execute_result"
    }
   ],
   "source": [
    "pd.to_datetime('20150120', format='%Y%m%d', errors='ignore')"
   ]
  },
  {
   "cell_type": "code",
   "execution_count": 24,
   "metadata": {
    "scrolled": true
   },
   "outputs": [
    {
     "data": {
      "text/plain": [
       "DatetimeIndex(['2018-01-01 00:00:00', '2018-01-01 01:00:00',\n",
       "               '2018-01-01 02:00:00'],\n",
       "              dtype='datetime64[ns]', freq='H')"
      ]
     },
     "execution_count": 24,
     "metadata": {},
     "output_type": "execute_result"
    }
   ],
   "source": [
    "pd.date_range('2018-01-01', periods=3, freq='H')"
   ]
  },
  {
   "cell_type": "code",
   "execution_count": 28,
   "metadata": {},
   "outputs": [
    {
     "name": "stdout",
     "output_type": "stream",
     "text": [
      "2000-01-01    0\n",
      "2000-01-02    1\n",
      "2000-01-03    2\n",
      "Freq: D, dtype: int64\n"
     ]
    }
   ],
   "source": [
    "s = pd.Series(range(3), index=pd.date_range('2000', freq='D', periods=3))\n",
    "print(s)"
   ]
  },
  {
   "cell_type": "code",
   "execution_count": 29,
   "metadata": {},
   "outputs": [
    {
     "data": {
      "text/plain": [
       "DatetimeIndex(['2000-01-01', '2000-01-02', '2000-01-03'], dtype='datetime64[ns]', freq='D')"
      ]
     },
     "execution_count": 29,
     "metadata": {},
     "output_type": "execute_result"
    }
   ],
   "source": [
    "s.index"
   ]
  },
  {
   "cell_type": "code",
   "execution_count": 33,
   "metadata": {
    "scrolled": true
   },
   "outputs": [
    {
     "name": "stdout",
     "output_type": "stream",
     "text": [
      "0\n",
      "0\n",
      "2000-01-01    0\n",
      "2000-01-02    1\n",
      "2000-01-03    2\n",
      "Freq: D, dtype: int64\n"
     ]
    }
   ],
   "source": [
    "print(s['1/1/2000'])\n",
    "\n",
    "print(s[datetime(2000,1,1)])\n",
    "\n",
    "print(s['2000'])"
   ]
  },
  {
   "cell_type": "markdown",
   "metadata": {},
   "source": [
    "We have thus seen pandas is essentially numpy but with index, so we can structure it with index and different dtype.  "
   ]
  }
 ],
 "metadata": {
  "kernelspec": {
   "display_name": "Python 3",
   "language": "python",
   "name": "python3"
  },
  "language_info": {
   "codemirror_mode": {
    "name": "ipython",
    "version": 3
   },
   "file_extension": ".py",
   "mimetype": "text/x-python",
   "name": "python",
   "nbconvert_exporter": "python",
   "pygments_lexer": "ipython3",
   "version": "3.7.4"
  },
  "latex_envs": {
   "LaTeX_envs_menu_present": true,
   "autoclose": false,
   "autocomplete": true,
   "bibliofile": "biblio.bib",
   "cite_by": "apalike",
   "current_citInitial": 1,
   "eqLabelWithNumbers": true,
   "eqNumInitial": 1,
   "hotkeys": {
    "equation": "Ctrl-E",
    "itemize": "Ctrl-I"
   },
   "labels_anchors": false,
   "latex_user_defs": false,
   "report_style_numbering": false,
   "user_envs_cfg": false
  }
 },
 "nbformat": 4,
 "nbformat_minor": 4
}

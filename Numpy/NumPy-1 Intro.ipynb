{
 "cells": [
  {
   "cell_type": "markdown",
   "metadata": {},
   "source": [
    "Lets begin with importing numpy as np."
   ]
  },
  {
   "cell_type": "code",
   "execution_count": 1,
   "metadata": {},
   "outputs": [],
   "source": [
    "import numpy as np"
   ]
  },
  {
   "cell_type": "markdown",
   "metadata": {},
   "source": [
    "Numpy is a package that is essential, it runs very fast and good. Of course one can use python without numpy to do mathematical operation and likewise but numpy is very optimized.\n",
    "\n",
    "The building part of numpy is (surprisingly not) arrays, or stack of arrays i.e matrix/tensors etc. Let's start with creating a numpy array."
   ]
  },
  {
   "cell_type": "code",
   "execution_count": 26,
   "metadata": {},
   "outputs": [
    {
     "name": "stdout",
     "output_type": "stream",
     "text": [
      "a = [1 2 3]\n",
      "b = [1 2 3]\n",
      "The shape of the array is (3,)\n",
      "The datatype of the element in a is int32\n",
      "\n",
      "c = [1.4        6.         3.14159265]\n",
      "The datatype of the element in c is float64\n",
      "\n",
      "The output of np.arrays is <class 'numpy.ndarray'>\n"
     ]
    }
   ],
   "source": [
    "a = np.array([1,2,3])\n",
    "print(\"a = {}\".format(a))\n",
    "\n",
    "b = np.array((1,2,3))\n",
    "print(\"b = {}\".format(b))\n",
    "\n",
    "print(\"The shape of the array is {}\".format(a.shape))\n",
    "print(\"The datatype of the element in a is {}\".format(a.dtype)+ '\\n')\n",
    "\n",
    "c = np.array([1.4, 6, np.pi])\n",
    "print(\"c = {}\".format(c))\n",
    "print(\"The datatype of the element in c is {}\".format(c.dtype)+ '\\n')\n",
    "\n",
    "print(\"The output of np.arrays is {}\".format(type(c)))"
   ]
  },
  {
   "cell_type": "code",
   "execution_count": 29,
   "metadata": {},
   "outputs": [
    {
     "name": "stdout",
     "output_type": "stream",
     "text": [
      "A = [[1 1 1]\n",
      " [2 2 2]]\n",
      "The shape of the matrix is (2, 3)\n",
      "The datatype of the element in A is int32\n",
      "\n",
      "The output of np.arrays is <class 'numpy.ndarray'>\n"
     ]
    }
   ],
   "source": [
    "A = np.array([[1,1,1],[2,2,2]])\n",
    "print(\"A = {}\".format(A))\n",
    "\n",
    "print(\"The shape of the matrix is {}\".format(A.shape))\n",
    "print(\"The datatype of the element in A is {}\".format(A.dtype)+ '\\n')\n",
    "\n",
    "print(\"The output of np.arrays is {}\".format(type(A)))"
   ]
  },
  {
   "cell_type": "markdown",
   "metadata": {},
   "source": [
    "We saw that we can initialize a numpy array from python list. There are many ways to initialize numpy arrays, depending on the usage. Let's see some of the more common standard array initialization.   "
   ]
  },
  {
   "cell_type": "code",
   "execution_count": 38,
   "metadata": {},
   "outputs": [
    {
     "name": "stdout",
     "output_type": "stream",
     "text": [
      "[[0.00000000e+000 0.00000000e+000 0.00000000e+000]\n",
      " [0.00000000e+000 0.00000000e+000 8.89318163e-321]\n",
      " [9.18824177e-312 9.18824177e-312 0.00000000e+000]]\n",
      "[[0 0 0]\n",
      " [0 0 1]\n",
      " [1 1 0]]\n",
      "Empty returns a ndarray of given shape. One should be careful of initialize this way if one care about the elements that is initialized\n",
      "\n",
      "[[1. 0. 0. 0. 0.]\n",
      " [0. 1. 0. 0. 0.]\n",
      " [0. 0. 1. 0. 0.]\n",
      " [0. 0. 0. 1. 0.]\n",
      " [0. 0. 0. 0. 1.]]\n",
      "[[1. 1. 1. 1. 1.]\n",
      " [1. 1. 1. 1. 1.]\n",
      " [1. 1. 1. 1. 1.]\n",
      " [1. 1. 1. 1. 1.]\n",
      " [1. 1. 1. 1. 1.]]\n",
      "[[0. 0.]\n",
      " [0. 0.]\n",
      " [0. 0.]\n",
      " [0. 0.]]\n",
      "[[5. 5.]\n",
      " [5. 5.]\n",
      " [5. 5.]\n",
      " [5. 5.]]\n",
      "[0.         0.10204082 0.20408163 0.30612245 0.40816327 0.51020408\n",
      " 0.6122449  0.71428571 0.81632653 0.91836735 1.02040816 1.12244898\n",
      " 1.2244898  1.32653061 1.42857143 1.53061224 1.63265306 1.73469388\n",
      " 1.83673469 1.93877551 2.04081633 2.14285714 2.24489796 2.34693878\n",
      " 2.44897959 2.55102041 2.65306122 2.75510204 2.85714286 2.95918367\n",
      " 3.06122449 3.16326531 3.26530612 3.36734694 3.46938776 3.57142857\n",
      " 3.67346939 3.7755102  3.87755102 3.97959184 4.08163265 4.18367347\n",
      " 4.28571429 4.3877551  4.48979592 4.59183673 4.69387755 4.79591837\n",
      " 4.89795918 5.        ]\n"
     ]
    }
   ],
   "source": [
    "A = np.empty(shape=(3,3))\n",
    "B = np.empty(shape=(3,3),dtype=np.int8)\n",
    "\n",
    "print(A)\n",
    "print(B)\n",
    "\n",
    "print(\"Empty returns a ndarray of given shape. One should be careful of initialize this way if one care about the elements that is initialized\" + '\\n')\n",
    "\n",
    "C = np.identity(5)\n",
    "print(C)\n",
    "\n",
    "D = np.ones(shape=(5,5))\n",
    "E = np.zeros(shape=(4,2))\n",
    "\n",
    "F = np.full_like(E,5)\n",
    "\n",
    "print(D)\n",
    "print(E)\n",
    "print(F)\n",
    "\n",
    "print(np.linspace(start=0,stop=5))"
   ]
  },
  {
   "cell_type": "markdown",
   "metadata": {},
   "source": [
    "The array operation is like python operation. Some is in-place some are not."
   ]
  },
  {
   "cell_type": "code",
   "execution_count": 46,
   "metadata": {},
   "outputs": [
    {
     "name": "stdout",
     "output_type": "stream",
     "text": [
      "[2. 3. 4.]\n",
      "[[2. 3. 4.]\n",
      " [2. 3. 4.]]\n",
      "[2. 3. 4.]\n",
      "[2. 2.]\n",
      "2.0\n"
     ]
    }
   ],
   "source": [
    "a = np.array([1,2,3])\n",
    "b = np.array([2,2,2])\n",
    "\n",
    "print(a + b*0.5)\n",
    "\n",
    "A = np.ones(shape=(2,3))\n",
    "B = np.array([[1,2,3],[1,2,3]])\n",
    "C = A + B\n",
    "print(C)\n",
    "\n",
    "print(C[1])\n",
    "print(C[:,0])\n",
    "print(C[0,0])"
   ]
  },
  {
   "cell_type": "markdown",
   "metadata": {},
   "source": [
    "The ndarry also have some nice operation"
   ]
  },
  {
   "cell_type": "code",
   "execution_count": 53,
   "metadata": {},
   "outputs": [
    {
     "name": "stdout",
     "output_type": "stream",
     "text": [
      "12\n",
      "2.0\n",
      "[6 6]\n",
      "[2 4 6]\n"
     ]
    }
   ],
   "source": [
    "B = np.array([[1,2,3],[1,2,3]])\n",
    "print(B.sum())\n",
    "print(B.mean())\n",
    "\n",
    "print(B.sum(axis=1))\n",
    "print(B.sum(axis=0))"
   ]
  },
  {
   "cell_type": "markdown",
   "metadata": {},
   "source": [
    "One of the most useful thing is to update the array, either reshaping it, add an axis or append something."
   ]
  },
  {
   "cell_type": "code",
   "execution_count": null,
   "metadata": {},
   "outputs": [],
   "source": []
  }
 ],
 "metadata": {
  "kernelspec": {
   "display_name": "Python 3",
   "language": "python",
   "name": "python3"
  },
  "language_info": {
   "codemirror_mode": {
    "name": "ipython",
    "version": 3
   },
   "file_extension": ".py",
   "mimetype": "text/x-python",
   "name": "python",
   "nbconvert_exporter": "python",
   "pygments_lexer": "ipython3",
   "version": "3.7.4"
  },
  "latex_envs": {
   "LaTeX_envs_menu_present": true,
   "autoclose": false,
   "autocomplete": true,
   "bibliofile": "biblio.bib",
   "cite_by": "apalike",
   "current_citInitial": 1,
   "eqLabelWithNumbers": true,
   "eqNumInitial": 1,
   "hotkeys": {
    "equation": "Ctrl-E",
    "itemize": "Ctrl-I"
   },
   "labels_anchors": false,
   "latex_user_defs": false,
   "report_style_numbering": false,
   "user_envs_cfg": false
  }
 },
 "nbformat": 4,
 "nbformat_minor": 4
}

{
 "cells": [
  {
   "cell_type": "markdown",
   "metadata": {},
   "source": [
    "Numpy is very good, since it help us with faster and smaller code. \n",
    "\n",
    "Python is \"written\" in C where one can see x = 7 as struct _int{adress, value, ...}, we want to use the simple python code while still being fast. For example see picture, a python list = [1,2,3,4,...] becomes a bit messy, when we add more data and use operation on it. But a numpy array solves this.    "
   ]
  },
  {
   "attachments": {},
   "cell_type": "markdown",
   "metadata": {},
   "source": [
    "![title](Pictures/array_vs_list.png)"
   ]
  },
  {
   "cell_type": "markdown",
   "metadata": {},
   "source": [
    "Lets begin study numpy by importing numpy as np."
   ]
  },
  {
   "cell_type": "code",
   "execution_count": 2,
   "metadata": {},
   "outputs": [],
   "source": [
    "import numpy as np"
   ]
  },
  {
   "cell_type": "markdown",
   "metadata": {},
   "source": [
    "Numpy is a package that is essential, it runs very fast and good. Of course one can use python without numpy to do mathematical operation and likewise but numpy is very optimized.\n",
    "\n",
    "The building part of numpy is (surprisingly not) arrays, or stack of arrays i.e matrix/tensors etc. Let's start with creating a numpy array."
   ]
  },
  {
   "cell_type": "code",
   "execution_count": 26,
   "metadata": {},
   "outputs": [
    {
     "name": "stdout",
     "output_type": "stream",
     "text": [
      "a = [1 2 3]\n",
      "b = [1 2 3]\n",
      "The shape of the array is (3,)\n",
      "The datatype of the element in a is int32\n",
      "\n",
      "c = [1.4        6.         3.14159265]\n",
      "The datatype of the element in c is float64\n",
      "\n",
      "The output of np.arrays is <class 'numpy.ndarray'>\n"
     ]
    }
   ],
   "source": [
    "a = np.array([1,2,3])\n",
    "print(\"a = {}\".format(a))\n",
    "\n",
    "b = np.array((1,2,3))\n",
    "print(\"b = {}\".format(b))\n",
    "\n",
    "print(\"The shape of the array is {}\".format(a.shape))\n",
    "print(\"The datatype of the element in a is {}\".format(a.dtype)+ '\\n')\n",
    "\n",
    "c = np.array([1.4, 6, np.pi])\n",
    "print(\"c = {}\".format(c))\n",
    "print(\"The datatype of the element in c is {}\".format(c.dtype)+ '\\n')\n",
    "\n",
    "print(\"The output of np.arrays is {}\".format(type(c)))"
   ]
  },
  {
   "cell_type": "code",
   "execution_count": 29,
   "metadata": {},
   "outputs": [
    {
     "name": "stdout",
     "output_type": "stream",
     "text": [
      "A = [[1 1 1]\n",
      " [2 2 2]]\n",
      "The shape of the matrix is (2, 3)\n",
      "The datatype of the element in A is int32\n",
      "\n",
      "The output of np.arrays is <class 'numpy.ndarray'>\n"
     ]
    }
   ],
   "source": [
    "A = np.array([[1,1,1],[2,2,2]])\n",
    "print(\"A = {}\".format(A))\n",
    "\n",
    "print(\"The shape of the matrix is {}\".format(A.shape))\n",
    "print(\"The datatype of the element in A is {}\".format(A.dtype)+ '\\n')\n",
    "\n",
    "print(\"The output of np.arrays is {}\".format(type(A)))"
   ]
  },
  {
   "cell_type": "markdown",
   "metadata": {},
   "source": [
    "We saw that we can initialize a numpy array from python list. There are many ways to initialize numpy arrays, depending on the usage. Let's see some of the more common standard array initialization.   "
   ]
  },
  {
   "cell_type": "code",
   "execution_count": 38,
   "metadata": {},
   "outputs": [
    {
     "name": "stdout",
     "output_type": "stream",
     "text": [
      "[[0.00000000e+000 0.00000000e+000 0.00000000e+000]\n",
      " [0.00000000e+000 0.00000000e+000 8.89318163e-321]\n",
      " [9.18824177e-312 9.18824177e-312 0.00000000e+000]]\n",
      "[[0 0 0]\n",
      " [0 0 1]\n",
      " [1 1 0]]\n",
      "Empty returns a ndarray of given shape. One should be careful of initialize this way if one care about the elements that is initialized\n",
      "\n",
      "[[1. 0. 0. 0. 0.]\n",
      " [0. 1. 0. 0. 0.]\n",
      " [0. 0. 1. 0. 0.]\n",
      " [0. 0. 0. 1. 0.]\n",
      " [0. 0. 0. 0. 1.]]\n",
      "[[1. 1. 1. 1. 1.]\n",
      " [1. 1. 1. 1. 1.]\n",
      " [1. 1. 1. 1. 1.]\n",
      " [1. 1. 1. 1. 1.]\n",
      " [1. 1. 1. 1. 1.]]\n",
      "[[0. 0.]\n",
      " [0. 0.]\n",
      " [0. 0.]\n",
      " [0. 0.]]\n",
      "[[5. 5.]\n",
      " [5. 5.]\n",
      " [5. 5.]\n",
      " [5. 5.]]\n",
      "[0.         0.10204082 0.20408163 0.30612245 0.40816327 0.51020408\n",
      " 0.6122449  0.71428571 0.81632653 0.91836735 1.02040816 1.12244898\n",
      " 1.2244898  1.32653061 1.42857143 1.53061224 1.63265306 1.73469388\n",
      " 1.83673469 1.93877551 2.04081633 2.14285714 2.24489796 2.34693878\n",
      " 2.44897959 2.55102041 2.65306122 2.75510204 2.85714286 2.95918367\n",
      " 3.06122449 3.16326531 3.26530612 3.36734694 3.46938776 3.57142857\n",
      " 3.67346939 3.7755102  3.87755102 3.97959184 4.08163265 4.18367347\n",
      " 4.28571429 4.3877551  4.48979592 4.59183673 4.69387755 4.79591837\n",
      " 4.89795918 5.        ]\n"
     ]
    }
   ],
   "source": [
    "A = np.empty(shape=(3,3))\n",
    "B = np.empty(shape=(3,3),dtype=np.int8)\n",
    "\n",
    "print(A)\n",
    "print(B)\n",
    "\n",
    "print(\"Empty returns a ndarray of given shape. One should be careful of initialize this way if one care about the elements that is initialized\" + '\\n')\n",
    "\n",
    "C = np.identity(5)\n",
    "print(C)\n",
    "\n",
    "D = np.ones(shape=(5,5))\n",
    "E = np.zeros(shape=(4,2))\n",
    "\n",
    "F = np.full_like(E,5)\n",
    "\n",
    "print(D)\n",
    "print(E)\n",
    "print(F)\n",
    "\n",
    "print(np.linspace(start=0,stop=5))"
   ]
  },
  {
   "cell_type": "markdown",
   "metadata": {},
   "source": [
    "The array operation is like python operation. Some is in-place some are not."
   ]
  },
  {
   "cell_type": "code",
   "execution_count": 50,
   "metadata": {},
   "outputs": [
    {
     "name": "stdout",
     "output_type": "stream",
     "text": [
      "[ 0. 10. 20. 30. 40.]\n"
     ]
    }
   ],
   "source": [
    "x = np.arange(5)\n",
    "y = np.empty(5)\n",
    "np.multiply(x, 10, out=y)\n",
    "print(y)"
   ]
  },
  {
   "cell_type": "markdown",
   "metadata": {},
   "source": [
    "We can define the out from a function for some good memory usage and likewise.\n",
    "\n",
    "Let's study some element-wise operation"
   ]
  },
  {
   "cell_type": "code",
   "execution_count": 46,
   "metadata": {},
   "outputs": [
    {
     "name": "stdout",
     "output_type": "stream",
     "text": [
      "[2. 3. 4.]\n",
      "[[2. 3. 4.]\n",
      " [2. 3. 4.]]\n",
      "[2. 3. 4.]\n",
      "[2. 2.]\n",
      "2.0\n"
     ]
    }
   ],
   "source": [
    "a = np.array([1,2,3])\n",
    "b = np.array([2,2,2])\n",
    "\n",
    "print(a + b*0.5)\n",
    "\n",
    "A = np.ones(shape=(2,3))\n",
    "B = np.array([[1,2,3],[1,2,3]])\n",
    "C = A + B\n",
    "print(C)\n",
    "\n",
    "print(C[1])\n",
    "print(C[:,0])\n",
    "print(C[0,0])"
   ]
  },
  {
   "cell_type": "markdown",
   "metadata": {},
   "source": [
    "We want to vectorize operations, which happens with above. Another means of vectorizing operations is to use NumPy's broadcasting functionality. Broadcasting is simply a set of rules for applying binary ufuncs (e.g., addition, subtraction, multiplication, etc.) on arrays of different sizes  "
   ]
  },
  {
   "cell_type": "code",
   "execution_count": 52,
   "metadata": {},
   "outputs": [
    {
     "name": "stdout",
     "output_type": "stream",
     "text": [
      "[1 2 3]\n"
     ]
    }
   ],
   "source": [
    "a = np.array([0, 1, 2])\n",
    "b = np.array([1, 1, 1])\n",
    "print(a + b)"
   ]
  },
  {
   "cell_type": "code",
   "execution_count": 53,
   "metadata": {},
   "outputs": [
    {
     "name": "stdout",
     "output_type": "stream",
     "text": [
      "[1 2 3]\n"
     ]
    }
   ],
   "source": [
    "a = np.array([0, 1, 2])\n",
    "print(a + 1)"
   ]
  },
  {
   "cell_type": "markdown",
   "metadata": {},
   "source": [
    "So when the array is of different shape the + operation behaves like [0,1,2] + [1,1,1] but instead of copy 1, 3 times the numpy calculate better with broadcasting. This gets \"complicated\" when adding dimension but broadcasting behaves similar. "
   ]
  },
  {
   "cell_type": "code",
   "execution_count": 54,
   "metadata": {
    "scrolled": true
   },
   "outputs": [
    {
     "name": "stdout",
     "output_type": "stream",
     "text": [
      "[[1. 2. 3.]\n",
      " [1. 2. 3.]\n",
      " [1. 2. 3.]]\n"
     ]
    }
   ],
   "source": [
    "M = np.ones((3, 3))\n",
    "print(M + a)"
   ]
  },
  {
   "cell_type": "code",
   "execution_count": 55,
   "metadata": {},
   "outputs": [
    {
     "name": "stdout",
     "output_type": "stream",
     "text": [
      "[[0 1 2]\n",
      " [1 2 3]\n",
      " [2 3 4]]\n"
     ]
    }
   ],
   "source": [
    "a = np.array([0,1,2])\n",
    "b = np.array([[0],[1],[2]])\n",
    "print(a+b)"
   ]
  },
  {
   "cell_type": "markdown",
   "metadata": {},
   "source": [
    "![title](Pictures/broadcasting.png)"
   ]
  },
  {
   "cell_type": "markdown",
   "metadata": {},
   "source": [
    "Basically the array \"copies\" accordingly to witch has the lowest dimension. If they both have same lowest dimension the one with shape equal to 1 in that dimension is stretched. This is a bit useful but can be thought as extra ."
   ]
  },
  {
   "cell_type": "markdown",
   "metadata": {},
   "source": [
    "With the basic over we study some of the nice operation that ndarry has. Most operation is implemented and can be operated w.r.p different dimension and such."
   ]
  },
  {
   "cell_type": "code",
   "execution_count": 53,
   "metadata": {},
   "outputs": [
    {
     "name": "stdout",
     "output_type": "stream",
     "text": [
      "12\n",
      "2.0\n",
      "[6 6]\n",
      "[2 4 6]\n"
     ]
    }
   ],
   "source": [
    "B = np.array([[1,2,3],[1,2,3]])\n",
    "print(B.sum())\n",
    "print(B.mean())\n",
    "\n",
    "print(B.sum(axis=1))\n",
    "print(B.sum(axis=0))"
   ]
  },
  {
   "cell_type": "markdown",
   "metadata": {},
   "source": [
    "One of the most useful thing is to update the array, either reshaping it, add an axis or append something."
   ]
  },
  {
   "cell_type": "code",
   "execution_count": 5,
   "metadata": {},
   "outputs": [
    {
     "name": "stdout",
     "output_type": "stream",
     "text": [
      "[ 0  1  2  3  4  5  6  7  8  9 10 11]\n",
      "[[ 0  1  2  3]\n",
      " [ 4  5  6  7]\n",
      " [ 8  9 10 11]]\n"
     ]
    }
   ],
   "source": [
    "a = np.arange(12)\n",
    "print(a)\n",
    "\n",
    "b = a.reshape(3, 4)\n",
    "print(b)\n",
    "\n"
   ]
  },
  {
   "cell_type": "code",
   "execution_count": 6,
   "metadata": {},
   "outputs": [
    {
     "name": "stdout",
     "output_type": "stream",
     "text": [
      "[ 0  1  2  3  4  5  6  7  8  9 10  0]\n",
      "[[ 0  1  2  3]\n",
      " [ 4  5  6  7]\n",
      " [ 8  9 10  0]]\n"
     ]
    }
   ],
   "source": [
    "a[11:] = 0\n",
    "print(a)\n",
    "print(b)"
   ]
  },
  {
   "cell_type": "markdown",
   "metadata": {},
   "source": [
    "the reshape function does not copy the data, it doesn't even own its data as seen."
   ]
  },
  {
   "cell_type": "code",
   "execution_count": 9,
   "metadata": {},
   "outputs": [
    {
     "name": "stdout",
     "output_type": "stream",
     "text": [
      "[ 0  1  2  3  0  5  6  7  0  9 10  0]\n",
      "[[ 0  1  2  3]\n",
      " [ 0  5  6  7]\n",
      " [ 0  9 10  0]]\n"
     ]
    }
   ],
   "source": [
    "b[1:2,0] = 0\n",
    "print(a)\n",
    "print(b)"
   ]
  },
  {
   "cell_type": "markdown",
   "metadata": {},
   "source": [
    "This can seen as bad but is very useful since we can use reshape as a good tool to just change \"pointers\" but still operate on the new shape. Numpy is built on C so C-contiguous is happening when initializing, so one should for better code, store as C.   "
   ]
  },
  {
   "cell_type": "code",
   "execution_count": 10,
   "metadata": {},
   "outputs": [
    {
     "name": "stdout",
     "output_type": "stream",
     "text": [
      "[1 2 3]\n",
      "[[1 2 3]\n",
      " [1 2 3]]\n"
     ]
    }
   ],
   "source": [
    "a = np.array([1,2,3])\n",
    "b = np.array([[1,2,3],[1,2,3]])\n",
    "print(a)\n",
    "print(b)"
   ]
  },
  {
   "cell_type": "code",
   "execution_count": 15,
   "metadata": {},
   "outputs": [
    {
     "name": "stdout",
     "output_type": "stream",
     "text": [
      "[1 2 3 1 2 3]\n",
      "[1 2 3]\n",
      "axis 1 is out of bounds for array of dimension 1\n",
      "(3,)\n"
     ]
    }
   ],
   "source": [
    "a2 = np.concatenate((a,a),axis=0)\n",
    "print(a2)\n",
    "print(a)\n",
    "try:\n",
    "    a2 = np.concatenate((a,a),axis=1)\n",
    "    print(a2)\n",
    "except:\n",
    "    print(\"axis 1 is out of bounds for array of dimension 1\")\n",
    "    print(a.shape)\n",
    "    \n"
   ]
  },
  {
   "cell_type": "code",
   "execution_count": 20,
   "metadata": {},
   "outputs": [
    {
     "name": "stdout",
     "output_type": "stream",
     "text": [
      "axis 1 is out of bounds for array of dimension 1\n",
      "[1 2 3 1 2 3 1 2 3]\n"
     ]
    }
   ],
   "source": [
    "try:\n",
    "    ab = np.concatenate([a,b],axis=0)\n",
    "    print(ab)\n",
    "except:\n",
    "    print(\"axis 1 is out of bounds for array of dimension 1\")\n",
    "ab = np.concatenate([a,b],axis=None)\n",
    "print(ab)"
   ]
  },
  {
   "cell_type": "markdown",
   "metadata": {},
   "source": [
    "We saw that when concatenate we need to have the same dimension. If we want to append, we can use axis = None as a flatten method. "
   ]
  },
  {
   "cell_type": "code",
   "execution_count": 34,
   "metadata": {},
   "outputs": [
    {
     "name": "stdout",
     "output_type": "stream",
     "text": [
      "[[1 2 3]]\n",
      "[[1 2 3]\n",
      " [1 2 3]]\n",
      "[[1 2 3]\n",
      " [1 2 3]\n",
      " [1 2 3]]\n"
     ]
    },
    {
     "ename": "ValueError",
     "evalue": "all the input array dimensions except for the concatenation axis must match exactly",
     "output_type": "error",
     "traceback": [
      "\u001b[1;31m---------------------------------------------------------------------------\u001b[0m",
      "\u001b[1;31mValueError\u001b[0m                                Traceback (most recent call last)",
      "\u001b[1;32m<ipython-input-34-b457dca807fb>\u001b[0m in \u001b[0;36m<module>\u001b[1;34m\u001b[0m\n\u001b[0;32m      6\u001b[0m \u001b[0mprint\u001b[0m\u001b[1;33m(\u001b[0m\u001b[0mab\u001b[0m\u001b[1;33m)\u001b[0m\u001b[1;33m\u001b[0m\u001b[1;33m\u001b[0m\u001b[0m\n\u001b[0;32m      7\u001b[0m \u001b[0mc\u001b[0m \u001b[1;33m=\u001b[0m \u001b[0mnp\u001b[0m\u001b[1;33m.\u001b[0m\u001b[0marray\u001b[0m\u001b[1;33m(\u001b[0m\u001b[1;33m[\u001b[0m\u001b[1;33m[\u001b[0m\u001b[1;36m1\u001b[0m\u001b[1;33m,\u001b[0m\u001b[1;36m2\u001b[0m\u001b[1;33m]\u001b[0m\u001b[1;33m]\u001b[0m\u001b[1;33m)\u001b[0m\u001b[1;33m\u001b[0m\u001b[1;33m\u001b[0m\u001b[0m\n\u001b[1;32m----> 8\u001b[1;33m \u001b[0mac\u001b[0m \u001b[1;33m=\u001b[0m \u001b[0mnp\u001b[0m\u001b[1;33m.\u001b[0m\u001b[0mconcatenate\u001b[0m\u001b[1;33m(\u001b[0m\u001b[1;33m(\u001b[0m\u001b[0mb\u001b[0m\u001b[1;33m,\u001b[0m\u001b[0mc\u001b[0m\u001b[1;33m)\u001b[0m\u001b[1;33m,\u001b[0m\u001b[0maxis\u001b[0m\u001b[1;33m=\u001b[0m\u001b[1;36m1\u001b[0m\u001b[1;33m)\u001b[0m\u001b[1;33m\u001b[0m\u001b[1;33m\u001b[0m\u001b[0m\n\u001b[0m\u001b[0;32m      9\u001b[0m \u001b[0mprint\u001b[0m\u001b[1;33m(\u001b[0m\u001b[0mac\u001b[0m\u001b[1;33m)\u001b[0m\u001b[1;33m\u001b[0m\u001b[1;33m\u001b[0m\u001b[0m\n",
      "\u001b[1;31mValueError\u001b[0m: all the input array dimensions except for the concatenation axis must match exactly"
     ]
    }
   ],
   "source": [
    "a = np.array([[1,2,3]])\n",
    "b = np.array([[1,2,3],[1,2,3]])\n",
    "print(a)\n",
    "print(b)\n",
    "ab = np.concatenate((a,b),axis=0)\n",
    "print(ab)\n",
    "c = np.array([[1,2]])\n",
    "ac = np.concatenate((b,c),axis=1)\n",
    "print(ac)"
   ]
  },
  {
   "cell_type": "markdown",
   "metadata": {},
   "source": [
    "It's a bit clumsy to use, so let's study different way to append/concatenate "
   ]
  },
  {
   "cell_type": "code",
   "execution_count": 39,
   "metadata": {},
   "outputs": [
    {
     "name": "stdout",
     "output_type": "stream",
     "text": [
      "columne-wise stack\n",
      "[1 2 3 1 2 3]\n",
      "(6,)\n",
      "[[1]\n",
      " [2]\n",
      " [3]]\n",
      "[[1 1]\n",
      " [2 2]\n",
      " [3 3]]\n",
      "(3, 2)\n"
     ]
    }
   ],
   "source": [
    "a = np.array([1,2,3])\n",
    "b = np.array([1,2,3])\n",
    "\n",
    "print(\"columne-wise stack\")\n",
    "ab = np.hstack((a,b))\n",
    "print(ab)\n",
    "print(ab.shape)\n",
    "\n",
    "a = np.array([[1],[2],[3]])\n",
    "b = np.array([[1],[2],[3]])\n",
    "print(a)\n",
    "ab = np.hstack((a,b))\n",
    "print(ab)\n",
    "print(ab.shape)"
   ]
  },
  {
   "cell_type": "code",
   "execution_count": 40,
   "metadata": {},
   "outputs": [
    {
     "name": "stdout",
     "output_type": "stream",
     "text": [
      "columne-wise stack\n",
      "[[1 2 3]\n",
      " [1 2 3]]\n",
      "(2, 3)\n",
      "[[1]\n",
      " [2]\n",
      " [3]]\n",
      "[[1]\n",
      " [2]\n",
      " [3]\n",
      " [1]\n",
      " [2]\n",
      " [3]]\n",
      "(6, 1)\n"
     ]
    }
   ],
   "source": [
    "a = np.array([1,2,3])\n",
    "b = np.array([1,2,3])\n",
    "\n",
    "print(\"row-wise stack\")\n",
    "ab = np.vstack((a,b))\n",
    "print(ab)\n",
    "print(ab.shape)\n",
    "a = np.array([[1],[2],[3]])\n",
    "b = np.array([[1],[2],[3]])\n",
    "print(a)\n",
    "ab = np.vstack((a,b))\n",
    "print(ab)\n",
    "print(ab.shape)"
   ]
  },
  {
   "cell_type": "markdown",
   "metadata": {},
   "source": [
    "This is a bit confusing, especially in higher dimension, but i like to think of column and row stacking. Sometime broadcasting happens so one need to think what happens. "
   ]
  },
  {
   "cell_type": "code",
   "execution_count": 46,
   "metadata": {},
   "outputs": [
    {
     "name": "stdout",
     "output_type": "stream",
     "text": [
      "columns-wise deep stack i.e add a dimension\n",
      "[[[1 1]\n",
      "  [2 2]\n",
      "  [3 3]]]\n",
      "(1, 3, 2)\n",
      "[[[1 1 1]\n",
      "  [2 2 2]\n",
      "  [3 3 3]]]\n",
      "(1, 3, 3)\n"
     ]
    }
   ],
   "source": [
    "a = np.array([1,2,3])\n",
    "b = np.array([1,2,3])\n",
    "\n",
    "print(\"columns-wise deep stack i.e add a dimension\")\n",
    "ab = np.dstack((b,a))\n",
    "print(ab)\n",
    "print(ab.shape)\n",
    "\n",
    "ab2 = np.dstack((ab,a))\n",
    "print(ab2)\n",
    "print(ab2.shape)"
   ]
  },
  {
   "cell_type": "markdown",
   "metadata": {},
   "source": [
    "Similarly (-note to future self, stop overusing adverb-) splitting is almost the same but with split, vsplit, hsplic and dsplit  "
   ]
  },
  {
   "cell_type": "markdown",
   "metadata": {},
   "source": [
    "MATLAB-feeling without MATLAB <3. One thing I like about matlab, beside the workspace, is the boolean operation on array. Luckily we can do that with numpy."
   ]
  },
  {
   "cell_type": "code",
   "execution_count": 57,
   "metadata": {
    "scrolled": true
   },
   "outputs": [
    {
     "name": "stdout",
     "output_type": "stream",
     "text": [
      "[ True False False]\n"
     ]
    },
    {
     "ename": "TypeError",
     "evalue": "'<' not supported between instances of 'list' and 'int'",
     "output_type": "error",
     "traceback": [
      "\u001b[1;31m---------------------------------------------------------------------------\u001b[0m",
      "\u001b[1;31mTypeError\u001b[0m                                 Traceback (most recent call last)",
      "\u001b[1;32m<ipython-input-57-353b2568a73e>\u001b[0m in \u001b[0;36m<module>\u001b[1;34m\u001b[0m\n\u001b[0;32m      3\u001b[0m \u001b[1;33m\u001b[0m\u001b[0m\n\u001b[0;32m      4\u001b[0m \u001b[0mprint\u001b[0m\u001b[1;33m(\u001b[0m\u001b[0ma\u001b[0m \u001b[1;33m<\u001b[0m \u001b[1;36m2\u001b[0m\u001b[1;33m)\u001b[0m\u001b[1;33m\u001b[0m\u001b[1;33m\u001b[0m\u001b[0m\n\u001b[1;32m----> 5\u001b[1;33m \u001b[0mprint\u001b[0m\u001b[1;33m(\u001b[0m\u001b[0mb\u001b[0m \u001b[1;33m<\u001b[0m \u001b[1;36m2\u001b[0m\u001b[1;33m)\u001b[0m\u001b[1;33m\u001b[0m\u001b[1;33m\u001b[0m\u001b[0m\n\u001b[0m",
      "\u001b[1;31mTypeError\u001b[0m: '<' not supported between instances of 'list' and 'int'"
     ]
    }
   ],
   "source": [
    "a = np.array([1,2,3])\n",
    "b = [1,2,3]\n",
    "\n",
    "print(a < 2)\n",
    "print(b < 2)\n"
   ]
  },
  {
   "cell_type": "markdown",
   "metadata": {},
   "source": [
    "We can use these boolean arrays as input"
   ]
  },
  {
   "cell_type": "code",
   "execution_count": 71,
   "metadata": {},
   "outputs": [
    {
     "name": "stdout",
     "output_type": "stream",
     "text": [
      "2\n",
      "2\n",
      "1\n",
      "[2 3]\n"
     ]
    }
   ],
   "source": [
    "print(np.sum(a > 1))\n",
    "\n",
    "print(np.sum(a > 1) & np.sum(a <= 2))\n",
    "print(np.sum((a > 1) & (a <= 2)))\n",
    "print(a[a > 1])"
   ]
  }
 ],
 "metadata": {
  "kernelspec": {
   "display_name": "Python 3",
   "language": "python",
   "name": "python3"
  },
  "language_info": {
   "codemirror_mode": {
    "name": "ipython",
    "version": 3
   },
   "file_extension": ".py",
   "mimetype": "text/x-python",
   "name": "python",
   "nbconvert_exporter": "python",
   "pygments_lexer": "ipython3",
   "version": "3.7.4"
  },
  "latex_envs": {
   "LaTeX_envs_menu_present": true,
   "autoclose": false,
   "autocomplete": true,
   "bibliofile": "biblio.bib",
   "cite_by": "apalike",
   "current_citInitial": 1,
   "eqLabelWithNumbers": true,
   "eqNumInitial": 1,
   "hotkeys": {
    "equation": "Ctrl-E",
    "itemize": "Ctrl-I"
   },
   "labels_anchors": false,
   "latex_user_defs": false,
   "report_style_numbering": false,
   "user_envs_cfg": false
  }
 },
 "nbformat": 4,
 "nbformat_minor": 4
}

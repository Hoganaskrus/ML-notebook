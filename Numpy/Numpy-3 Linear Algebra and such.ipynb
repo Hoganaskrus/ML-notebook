{
 "cells": [
  {
   "cell_type": "markdown",
   "metadata": {},
   "source": [
    "Numpy has additional submodules that is useful for mathematical programming. The first one to introduce is linear algebra."
   ]
  },
  {
   "cell_type": "code",
   "execution_count": 1,
   "metadata": {},
   "outputs": [],
   "source": [
    "import numpy as np\n",
    "import numpy.linalg as linalg"
   ]
  },
  {
   "cell_type": "code",
   "execution_count": 2,
   "metadata": {},
   "outputs": [
    {
     "name": "stdout",
     "output_type": "stream",
     "text": [
      "[[1. 1.]\n",
      " [1. 1.]\n",
      " [1. 1.]]\n",
      "[[2.]\n",
      " [2.]]\n"
     ]
    },
    {
     "ename": "ValueError",
     "evalue": "operands could not be broadcast together with shapes (3,2) (2,1) ",
     "output_type": "error",
     "traceback": [
      "\u001b[1;31m---------------------------------------------------------------------------\u001b[0m",
      "\u001b[1;31mValueError\u001b[0m                                Traceback (most recent call last)",
      "\u001b[1;32m<ipython-input-2-690fa6277ad4>\u001b[0m in \u001b[0;36m<module>\u001b[1;34m\u001b[0m\n\u001b[0;32m      4\u001b[0m \u001b[0mprint\u001b[0m\u001b[1;33m(\u001b[0m\u001b[0mA\u001b[0m\u001b[1;33m)\u001b[0m\u001b[1;33m\u001b[0m\u001b[1;33m\u001b[0m\u001b[0m\n\u001b[0;32m      5\u001b[0m \u001b[0mprint\u001b[0m\u001b[1;33m(\u001b[0m\u001b[0mb\u001b[0m\u001b[1;33m)\u001b[0m\u001b[1;33m\u001b[0m\u001b[1;33m\u001b[0m\u001b[0m\n\u001b[1;32m----> 6\u001b[1;33m \u001b[0mprint\u001b[0m\u001b[1;33m(\u001b[0m\u001b[0mA\u001b[0m \u001b[1;33m*\u001b[0m \u001b[0mb\u001b[0m\u001b[1;33m)\u001b[0m\u001b[1;33m\u001b[0m\u001b[1;33m\u001b[0m\u001b[0m\n\u001b[0m",
      "\u001b[1;31mValueError\u001b[0m: operands could not be broadcast together with shapes (3,2) (2,1) "
     ]
    }
   ],
   "source": [
    "#Let's try to multiply 2 matrices\n",
    "A = np.ones(shape=(3,2))\n",
    "b = np.ones(shape=(2,1))*2\n",
    "\n",
    "print(A)\n",
    "print(b)\n",
    "print(A * b)"
   ]
  },
  {
   "cell_type": "markdown",
   "metadata": {},
   "source": [
    "We saw that when multiplying 2 vectors/matrices, numpy try to to elementwise multiplication and/or broadcast the matrices. To be able to the matrix multiplication we need to use matmul or @-operator"
   ]
  },
  {
   "cell_type": "code",
   "execution_count": 6,
   "metadata": {},
   "outputs": [
    {
     "name": "stdout",
     "output_type": "stream",
     "text": [
      "[[4.]\n",
      " [4.]\n",
      " [4.]]\n",
      "[[4.]\n",
      " [4.]\n",
      " [4.]]\n"
     ]
    }
   ],
   "source": [
    "#Let's try again but use the real multiplication\n",
    "A = np.ones(shape=(3,2))\n",
    "b = np.ones(shape=(2,1))*2\n",
    "\n",
    "y = np.matmul(A,b)\n",
    "print(y)\n",
    "\n",
    "y = A @ b\n",
    "print(y)"
   ]
  },
  {
   "cell_type": "code",
   "execution_count": 12,
   "metadata": {},
   "outputs": [
    {
     "name": "stdout",
     "output_type": "stream",
     "text": [
      "[[-0.16439899  0.08429682 -0.98278534]\n",
      " [-0.98639392 -0.01404947  0.16379756]\n",
      " [-0.          0.99634164  0.08545959]]\n",
      "[[-12.16552506 -24.6598481    4.43877266]\n",
      " [  0.          23.0844513   10.2865542 ]\n",
      " [  0.           0.          -2.91274785]]\n"
     ]
    }
   ],
   "source": [
    "#Create a pseudorandom matrix\n",
    "C = np.array([[2,6,3],[12, 24 ,-5 ],[0,23,10]])\n",
    "\n",
    "#QR decompistion, get a traiangel and orthogonal matrix \n",
    "q,r = linalg.qr(C)\n",
    "\n",
    "print(q)\n",
    "print(r)\n"
   ]
  },
  {
   "cell_type": "markdown",
   "metadata": {},
   "source": [
    "QR, is a stable way to get a orthogonal matrix. The mode is ‘reduced’ i.e for not square matrices the \"zero-padding\" does not exist, if one want the original dimension one can change the mode."
   ]
  },
  {
   "cell_type": "code",
   "execution_count": 13,
   "metadata": {
    "scrolled": true
   },
   "outputs": [
    {
     "name": "stdout",
     "output_type": "stream",
     "text": [
      "[ 3.41035466 21.36073766 11.22890767]\n",
      "[[ 0.65770486  0.26620951  0.33812794]\n",
      " [-0.20747096  0.42688462  0.05021208]\n",
      " [ 0.72414096  0.86423493  0.93975967]]\n"
     ]
    }
   ],
   "source": [
    "#Create a invertible matrix\n",
    "C = np.array([[2,6,3],[12, 24 ,-5 ],[0,23,10]])\n",
    "w,v = linalg.eig(C)\n",
    "\n",
    "print(w)\n",
    "print(v)"
   ]
  },
  {
   "cell_type": "code",
   "execution_count": 19,
   "metadata": {
    "scrolled": true
   },
   "outputs": [
    {
     "name": "stdout",
     "output_type": "stream",
     "text": [
      "[[ 1.28117359]\n",
      " [-0.26405868]\n",
      " [ 1.00733496]]\n"
     ]
    }
   ],
   "source": [
    "#Solve a linear system without wasting computation time with inverting matrix \n",
    "C = np.array([[2,6,3],[12, 24 ,-5 ],[0,23,10]])\n",
    "A = np.ones(shape=(3,2))\n",
    "b = np.ones(shape=(2,1))*2\n",
    "y = A @ b\n",
    "\n",
    "\n",
    "x = linalg.solve(C,y)\n",
    "print(x)"
   ]
  },
  {
   "cell_type": "markdown",
   "metadata": {},
   "source": [
    "We can inverse the matrix to calculate the Ax=b but it's is inefficient. Thus solve is often used.\n",
    "\n",
    "We will see that scipy is often also used, it also have some of the nice method that numpy.linalg / numpy modules has.\n",
    "If the user don't have scipy installed numpy.dual can help speed up to process such as cholesky, det,eig and such.\n",
    "\n",
    "Another important method is fft i.e dfft "
   ]
  },
  {
   "cell_type": "code",
   "execution_count": 26,
   "metadata": {},
   "outputs": [
    {
     "name": "stdout",
     "output_type": "stream",
     "text": [
      "[ 6. +0.j        -1.5+0.8660254j -1.5-0.8660254j]\n",
      "[1.+0.j 2.+0.j 3.+0.j]\n",
      "[[ 75.  +0.j         -16.5-38.97114317j -16.5+38.97114317j]\n",
      " [-21.  +1.73205081j  -7.5 -0.8660254j   16.5-32.04293994j]\n",
      " [-21.  -1.73205081j  16.5+32.04293994j  -7.5 +0.8660254j ]]\n",
      "[ 6. +0.j        -1.5+0.8660254j]\n"
     ]
    }
   ],
   "source": [
    "#Create an array and matrix\n",
    "C = np.array([[2,6,3],[12, 24 ,-5 ],[0,23,10]])\n",
    "y = np.array([1,2,3])\n",
    "\n",
    "#We can fourier and also inverse fourier and get back our array albiet as complex now\n",
    "print(np.fft.fft(y))\n",
    "print(np.fft.ifft(np.fft.fft(y)))\n",
    "\n",
    "#We can do it row wise\n",
    "print(np.fft.fftn(C))\n"
   ]
  },
  {
   "cell_type": "markdown",
   "metadata": {},
   "source": [
    "If one has real data, one can either abs or do Hermitian fft (if possible)"
   ]
  },
  {
   "cell_type": "markdown",
   "metadata": {},
   "source": [
    "We can also with numpy use functional programming, for some more common operation. \n",
    "\n",
    "apply_along_axis(func1d, axis, arr, \\*args, …) - Apply a function to 1-D slices along the given axis.\n",
    "\n",
    "apply_over_axes(func, a, axes) - Apply a function repeatedly over multiple axes.\n",
    "\n",
    "vectorize(pyfunc[, otypes, doc, excluded, …]) - Generalized function class.\n",
    "\n",
    "frompyfunc(func, nin, nout, *[, identity]) - Takes an arbitrary Python function and returns a NumPy ufunc.\n",
    "\n",
    "piecewise(x, condlist, funclist, \\*args, \\*\\*kw) - Evaluate a piecewise-defined function."
   ]
  },
  {
   "cell_type": "code",
   "execution_count": 27,
   "metadata": {},
   "outputs": [
    {
     "data": {
      "text/plain": [
       "array([[1, 7, 8],\n",
       "       [3, 4, 9],\n",
       "       [2, 5, 6]])"
      ]
     },
     "execution_count": 27,
     "metadata": {},
     "output_type": "execute_result"
    }
   ],
   "source": [
    "#Unsorted array\n",
    "b = np.array([[8,1,7], [4,3,9], [5,2,6]])\n",
    "np.apply_along_axis(sorted, 1, b)"
   ]
  },
  {
   "cell_type": "markdown",
   "metadata": {},
   "source": [
    "The numpy library also has some statistic, such as order statistics, averages, variances, covariance and histograms"
   ]
  },
  {
   "cell_type": "code",
   "execution_count": 28,
   "metadata": {
    "scrolled": true
   },
   "outputs": [
    {
     "name": "stdout",
     "output_type": "stream",
     "text": [
      "[6.5 4.5 2.5]\n",
      "[7. 2.]\n"
     ]
    }
   ],
   "source": [
    "#Pretend real data\n",
    "a = np.array([[10, 7, 4], [3, 2, 1]])\n",
    "print(np.percentile(a, 50, axis=0))\n",
    "print(np.percentile(a, 50, axis=1))"
   ]
  }
 ],
 "metadata": {
  "kernelspec": {
   "display_name": "Python 3",
   "language": "python",
   "name": "python3"
  },
  "language_info": {
   "codemirror_mode": {
    "name": "ipython",
    "version": 3
   },
   "file_extension": ".py",
   "mimetype": "text/x-python",
   "name": "python",
   "nbconvert_exporter": "python",
   "pygments_lexer": "ipython3",
   "version": "3.7.4"
  },
  "latex_envs": {
   "LaTeX_envs_menu_present": true,
   "autoclose": false,
   "autocomplete": true,
   "bibliofile": "biblio.bib",
   "cite_by": "apalike",
   "current_citInitial": 1,
   "eqLabelWithNumbers": true,
   "eqNumInitial": 1,
   "hotkeys": {
    "equation": "Ctrl-E",
    "itemize": "Ctrl-I"
   },
   "labels_anchors": false,
   "latex_user_defs": false,
   "report_style_numbering": false,
   "user_envs_cfg": false
  }
 },
 "nbformat": 4,
 "nbformat_minor": 4
}

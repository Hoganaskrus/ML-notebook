{
 "cells": [
  {
   "cell_type": "markdown",
   "metadata": {},
   "source": [
    "Scipy is an \"built\" on numpy arrays so for big calculation scipy is better then just python operation. Scipy is categories into different subpackages \n",
    "\n",
    "**cluster - Clustering algorithms**\n",
    "\n",
    "**constants - Physical and mathematical constants**\n",
    "\n",
    "**fftpack - Fast Fourier Transform routines**\n",
    "\n",
    "**integrate - Integration and ordinary differential equation solvers**\n",
    "\n",
    "**interpolate - Interpolation and smoothing splines**\n",
    "\n",
    "**io - Input and Output**\n",
    "\n",
    "**linalg - Linear algebra**\n",
    "\n",
    "**ndimage - N-dimensional image processing**\n",
    "\n",
    "**odr - Orthogonal distance regression**\n",
    "\n",
    "**optimize - Optimization and root-finding routines**\n",
    "\n",
    "**signal - Signal processing**\n",
    "\n",
    "**sparse - Sparse matrices and associated routines**\n",
    "\n",
    "**spatial - Spatial data structures and algorithms**\n",
    "\n",
    "**special - Special functions**\n",
    "\n",
    "**stats - Statistical distributions and functions**\n",
    "\n",
    "In this notebook we will look at some subpackages that is not so complex/general and go into them later. "
   ]
  },
  {
   "cell_type": "code",
   "execution_count": 10,
   "metadata": {},
   "outputs": [],
   "source": [
    "import scipy as sp\n",
    "import numpy as np\n",
    "from scipy import interpolate"
   ]
  },
  {
   "cell_type": "code",
   "execution_count": 5,
   "metadata": {
    "scrolled": true
   },
   "outputs": [
    {
     "name": "stdout",
     "output_type": "stream",
     "text": [
      "[10.        -0.j          4.95725301-7.36923344j -2.81145244-5.40827912j\n",
      " -3.09017164+1.03670023j  1.58708208+1.97822818j  2.13684753-1.64005416j\n",
      " -1.27955855-1.73695245j -1.27955855+1.73695245j  2.13684753+1.64005416j\n",
      "  1.58708208-1.97822818j -3.09017164-1.03670023j -2.81145244+5.40827912j\n",
      "  4.95725301+7.36923344j]\n",
      "[ 20.          15.96836718   6.09926251  -4.29083974 -10.00554026\n",
      "  -8.98533355  -3.25113455   2.72610076   5.05923051   2.85187211\n",
      "  -1.5514814   -4.50543284  -3.75704369]\n"
     ]
    }
   ],
   "source": [
    "a = np.array([1,2,3,4,0,0,0,0,0,0,0,0,0])\n",
    "\n",
    "#Notice the difference, we can ofc inverse both of them\n",
    "print(sp.fft.fft(a)) #Fourier\n",
    "print(sp.fft.dct(a)) #Sinus/cosinus "
   ]
  },
  {
   "cell_type": "markdown",
   "metadata": {},
   "source": [
    "Nothing new but I think it's faster then numpy but probably not a must. "
   ]
  },
  {
   "cell_type": "code",
   "execution_count": 15,
   "metadata": {
    "scrolled": true
   },
   "outputs": [
    {
     "name": "stdout",
     "output_type": "stream",
     "text": [
      "[1.00000000e+00 1.17182818e+00 1.34365637e+00 1.51548455e+00\n",
      " 1.68731273e+00 1.85914091e+00 2.03096910e+00 2.20279728e+00\n",
      " 2.37462546e+00 2.54645365e+00 2.71828183e+00 3.18535926e+00\n",
      " 3.65243668e+00 4.11951411e+00 4.58659154e+00 5.05366896e+00\n",
      " 5.52074639e+00 5.98782382e+00 6.45490124e+00 6.92197867e+00\n",
      " 7.38905610e+00 8.65870418e+00 9.92835226e+00 1.11980003e+01\n",
      " 1.24676484e+01 1.37372965e+01 1.50069446e+01 1.62765927e+01\n",
      " 1.75462408e+01 1.88158888e+01 2.00855369e+01 2.35367982e+01\n",
      " 2.69880595e+01 3.04393209e+01 3.38905822e+01 3.73418435e+01\n",
      " 4.07931048e+01 4.42443661e+01 4.76956274e+01 5.11468887e+01\n",
      " 5.45981500e+01 6.39796509e+01 7.33611518e+01 8.27426528e+01\n",
      " 9.21241537e+01 1.01505655e+02 1.10887155e+02 1.20268656e+02\n",
      " 1.29650157e+02 1.39031658e+02 1.48413159e+02 1.73914723e+02\n",
      " 1.99416286e+02 2.24917849e+02 2.50419413e+02 2.75920976e+02\n",
      " 3.01422540e+02 3.26924103e+02 3.52425667e+02 3.77927230e+02\n",
      " 4.03428793e+02 4.72749230e+02 5.42069666e+02 6.11390103e+02\n",
      " 6.80710539e+02 7.50030976e+02 8.19351412e+02 8.88671849e+02\n",
      " 9.57992285e+02 1.02731272e+03 1.09663316e+03 1.28506564e+03\n",
      " 1.47349812e+03 1.66193061e+03 1.85036309e+03 2.03879557e+03\n",
      " 2.22722806e+03 2.41566054e+03 2.60409302e+03 2.79252550e+03\n",
      " 2.98095799e+03 3.49317058e+03 4.00538318e+03 4.51759577e+03\n",
      " 5.02980836e+03 5.54202096e+03 6.05423355e+03 6.56644615e+03\n",
      " 7.07865874e+03 7.59087133e+03]\n",
      "[1.00000000e+00 2.71828183e+00 7.38905610e+00 2.00855369e+01\n",
      " 5.45981500e+01 1.48413159e+02 4.03428793e+02 1.09663316e+03\n",
      " 2.98095799e+03 8.10308393e+03 2.20264658e+04 5.98741417e+04]\n"
     ]
    }
   ],
   "source": [
    "#Map y=e^x for some discrete data\n",
    "x = np.arange(12)\n",
    "y = np.exp(x)\n",
    "\n",
    "#Create a interpolation object that can take new data and interplate the result\n",
    "f = interpolate.interp1d(x,y)\n",
    "xnew = np.arange(0, 9, 0.1)\n",
    "print(f(xnew))\n",
    "print(y)"
   ]
  },
  {
   "cell_type": "markdown",
   "metadata": {},
   "source": [
    "Interpolate returns a interpolate object, there exist many more such at lagrange, BivariateSpline and more."
   ]
  },
  {
   "cell_type": "markdown",
   "metadata": {},
   "source": [
    "For more effiecent matrix usage Sparse is good in case of sufficent cause, same with linalg package as it has more function."
   ]
  },
  {
   "cell_type": "markdown",
   "metadata": {},
   "source": [
    "Special has almost all function and constant."
   ]
  }
 ],
 "metadata": {
  "kernelspec": {
   "display_name": "Python 3",
   "language": "python",
   "name": "python3"
  },
  "language_info": {
   "codemirror_mode": {
    "name": "ipython",
    "version": 3
   },
   "file_extension": ".py",
   "mimetype": "text/x-python",
   "name": "python",
   "nbconvert_exporter": "python",
   "pygments_lexer": "ipython3",
   "version": "3.7.4"
  },
  "latex_envs": {
   "LaTeX_envs_menu_present": true,
   "autoclose": false,
   "autocomplete": true,
   "bibliofile": "biblio.bib",
   "cite_by": "apalike",
   "current_citInitial": 1,
   "eqLabelWithNumbers": true,
   "eqNumInitial": 1,
   "hotkeys": {
    "equation": "Ctrl-E",
    "itemize": "Ctrl-I"
   },
   "labels_anchors": false,
   "latex_user_defs": false,
   "report_style_numbering": false,
   "user_envs_cfg": false
  }
 },
 "nbformat": 4,
 "nbformat_minor": 4
}

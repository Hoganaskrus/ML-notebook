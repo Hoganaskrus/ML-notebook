{
 "cells": [
  {
   "cell_type": "code",
   "execution_count": 1,
   "metadata": {},
   "outputs": [],
   "source": [
    "import numpy as np"
   ]
  },
  {
   "cell_type": "markdown",
   "metadata": {},
   "source": [
    "Numpy has sort algorithm just as python inbuild sort algorithms. Numpys' sort is good and fast and uses quicksort algorithm, but mergesort and heapsort are also available. For most applications, the default quicksort is more than sufficient."
   ]
  },
  {
   "cell_type": "code",
   "execution_count": 3,
   "metadata": {
    "scrolled": true
   },
   "outputs": [
    {
     "name": "stdout",
     "output_type": "stream",
     "text": [
      "[1 2 3 4 5]\n"
     ]
    }
   ],
   "source": [
    "x = np.array([2, 1, 4, 3, 5])\n",
    "print(np.sort(x))"
   ]
  },
  {
   "cell_type": "code",
   "execution_count": 7,
   "metadata": {
    "scrolled": true
   },
   "outputs": [
    {
     "name": "stdout",
     "output_type": "stream",
     "text": [
      "[1 2 3 4 5]\n"
     ]
    }
   ],
   "source": [
    "x = np.array([2, 1, 4, 3, 5])\n",
    "x.sort()\n",
    "print(x)"
   ]
  },
  {
   "cell_type": "markdown",
   "metadata": {},
   "source": [
    "In-Place sort also work. Argsort also works, which returns the indices of the sorted elements."
   ]
  },
  {
   "cell_type": "code",
   "execution_count": 10,
   "metadata": {},
   "outputs": [
    {
     "name": "stdout",
     "output_type": "stream",
     "text": [
      "[1 0 3 2 4]\n",
      "[2 1 4 3 5]\n",
      "[1 2 3 4 5]\n"
     ]
    }
   ],
   "source": [
    "x = np.array([2, 1, 4, 3, 5])\n",
    "i = np.argsort(x)\n",
    "print(i)\n",
    "print(x)\n",
    "print(x[i])"
   ]
  },
  {
   "cell_type": "markdown",
   "metadata": {},
   "source": [
    "We can also sort along rows/columns"
   ]
  },
  {
   "cell_type": "code",
   "execution_count": 22,
   "metadata": {
    "scrolled": false
   },
   "outputs": [
    {
     "name": "stdout",
     "output_type": "stream",
     "text": [
      "[[12.         11.75510204 11.51020408 11.26530612 11.02040816]\n",
      " [10.7755102  10.53061224 10.28571429 10.04081633  9.79591837]\n",
      " [ 9.55102041  9.30612245  9.06122449  8.81632653  8.57142857]\n",
      " [ 8.32653061  8.08163265  7.83673469  7.59183673  7.34693878]\n",
      " [ 7.10204082  6.85714286  6.6122449   6.36734694  6.12244898]\n",
      " [ 5.87755102  5.63265306  5.3877551   5.14285714  4.89795918]\n",
      " [ 4.65306122  4.40816327  4.16326531  3.91836735  3.67346939]\n",
      " [ 3.42857143  3.18367347  2.93877551  2.69387755  2.44897959]\n",
      " [ 2.20408163  1.95918367  1.71428571  1.46938776  1.2244898 ]\n",
      " [ 0.97959184  0.73469388  0.48979592  0.24489796  0.        ]]\n",
      "[[ 0.97959184  0.73469388  0.48979592  0.24489796  0.        ]\n",
      " [ 2.20408163  1.95918367  1.71428571  1.46938776  1.2244898 ]\n",
      " [ 3.42857143  3.18367347  2.93877551  2.69387755  2.44897959]\n",
      " [ 4.65306122  4.40816327  4.16326531  3.91836735  3.67346939]\n",
      " [ 5.87755102  5.63265306  5.3877551   5.14285714  4.89795918]\n",
      " [ 7.10204082  6.85714286  6.6122449   6.36734694  6.12244898]\n",
      " [ 8.32653061  8.08163265  7.83673469  7.59183673  7.34693878]\n",
      " [ 9.55102041  9.30612245  9.06122449  8.81632653  8.57142857]\n",
      " [10.7755102  10.53061224 10.28571429 10.04081633  9.79591837]\n",
      " [12.         11.75510204 11.51020408 11.26530612 11.02040816]]\n",
      "[[11.02040816 11.26530612 11.51020408 11.75510204 12.        ]\n",
      " [ 9.79591837 10.04081633 10.28571429 10.53061224 10.7755102 ]\n",
      " [ 8.57142857  8.81632653  9.06122449  9.30612245  9.55102041]\n",
      " [ 7.34693878  7.59183673  7.83673469  8.08163265  8.32653061]\n",
      " [ 6.12244898  6.36734694  6.6122449   6.85714286  7.10204082]\n",
      " [ 4.89795918  5.14285714  5.3877551   5.63265306  5.87755102]\n",
      " [ 3.67346939  3.91836735  4.16326531  4.40816327  4.65306122]\n",
      " [ 2.44897959  2.69387755  2.93877551  3.18367347  3.42857143]\n",
      " [ 1.2244898   1.46938776  1.71428571  1.95918367  2.20408163]\n",
      " [ 0.          0.24489796  0.48979592  0.73469388  0.97959184]]\n"
     ]
    }
   ],
   "source": [
    "x = np.linspace(start=12,stop=0)\n",
    "x = x.reshape((10,-1))\n",
    "print(x)\n",
    "print(np.sort(x, axis=0))\n",
    "print(np.sort(x, axis=1))"
   ]
  },
  {
   "cell_type": "markdown",
   "metadata": {},
   "source": [
    "What if we don't want to sort the whole array but still want the smallest number at the start. Let me introduce you to partition. It takes an array and a number K and part the array with the smallest K:th element to the left and the other to the right in a arbitrary order."
   ]
  },
  {
   "cell_type": "code",
   "execution_count": 26,
   "metadata": {},
   "outputs": [
    {
     "name": "stdout",
     "output_type": "stream",
     "text": [
      "[2 1 3 4 5 6 7]\n",
      "[2 1 3 4 6 5 7]\n"
     ]
    }
   ],
   "source": [
    "x = np.array([7, 2, 1, 6, 3, 5, 4])\n",
    "print(np.partition(x, 3))\n",
    "\n",
    "x = np.array([7, 2, 3, 1, 6, 5, 4])\n",
    "print(np.partition(x, 3))"
   ]
  },
  {
   "cell_type": "markdown",
   "metadata": {},
   "source": [
    "We have looked at arrays and Matrices/tensors/ndarry that is of the same dtype. In some application one want to have a ndarry with some structured data. "
   ]
  },
  {
   "cell_type": "code",
   "execution_count": 27,
   "metadata": {},
   "outputs": [],
   "source": [
    "name = ['Alice', 'Bob', 'Cathy', 'Doug']\n",
    "age = [25, 45, 37, 19]\n",
    "weight = [55.0, 85.5, 68.0, 61.5]"
   ]
  },
  {
   "cell_type": "code",
   "execution_count": 29,
   "metadata": {},
   "outputs": [
    {
     "name": "stdout",
     "output_type": "stream",
     "text": [
      "[('', 0, 0.) ('', 0, 0.) ('', 0, 0.) ('', 0, 0.)]\n"
     ]
    }
   ],
   "source": [
    "data = np.zeros(4, dtype={'names':('name', 'age', 'weight'),\n",
    "                          'formats':('U10', 'i4', 'f8')}) #U10 = Unicode with length < 10, #i4 = integer 4-byte, #f8 = float 8-byte\n",
    "print(data)"
   ]
  },
  {
   "cell_type": "code",
   "execution_count": 30,
   "metadata": {},
   "outputs": [
    {
     "name": "stdout",
     "output_type": "stream",
     "text": [
      "[('Alice', 25, 55. ) ('Bob', 45, 85.5) ('Cathy', 37, 68. )\n",
      " ('Doug', 19, 61.5)]\n"
     ]
    }
   ],
   "source": [
    "data['name'] = name\n",
    "data['age'] = age\n",
    "data['weight'] = weight\n",
    "print(data)"
   ]
  },
  {
   "cell_type": "markdown",
   "metadata": {},
   "source": [
    "We can now get data as we usually do and do boolean operation."
   ]
  },
  {
   "cell_type": "code",
   "execution_count": 31,
   "metadata": {},
   "outputs": [
    {
     "name": "stdout",
     "output_type": "stream",
     "text": [
      "('Alice', 25, 55.)\n",
      "Bob\n",
      "['Alice' 'Doug']\n"
     ]
    }
   ],
   "source": [
    "print(data[0])\n",
    "print(data[1]['name'])\n",
    "print(data[data['age'] < 30]['name'])"
   ]
  },
  {
   "cell_type": "markdown",
   "metadata": {},
   "source": [
    "The structured data will soon be obsolete but is a nice introduction to Pandas "
   ]
  }
 ],
 "metadata": {
  "kernelspec": {
   "display_name": "Python 3",
   "language": "python",
   "name": "python3"
  },
  "language_info": {
   "codemirror_mode": {
    "name": "ipython",
    "version": 3
   },
   "file_extension": ".py",
   "mimetype": "text/x-python",
   "name": "python",
   "nbconvert_exporter": "python",
   "pygments_lexer": "ipython3",
   "version": "3.7.4"
  },
  "latex_envs": {
   "LaTeX_envs_menu_present": true,
   "autoclose": false,
   "autocomplete": true,
   "bibliofile": "biblio.bib",
   "cite_by": "apalike",
   "current_citInitial": 1,
   "eqLabelWithNumbers": true,
   "eqNumInitial": 1,
   "hotkeys": {
    "equation": "Ctrl-E",
    "itemize": "Ctrl-I"
   },
   "labels_anchors": false,
   "latex_user_defs": false,
   "report_style_numbering": false,
   "user_envs_cfg": false
  }
 },
 "nbformat": 4,
 "nbformat_minor": 4
}
